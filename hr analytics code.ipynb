{
 "cells": [
  {
   "cell_type": "code",
   "execution_count": 1,
   "id": "85bab8f4",
   "metadata": {},
   "outputs": [],
   "source": [
    "import numpy as np\n",
    "import pandas as pd\n",
    "import matplotlib.pyplot as plt\n",
    "import seaborn as sns\n",
    "import warnings \n",
    "warnings.filterwarnings('ignore')\n",
    "from sklearn.model_selection import train_test_split\n",
    "from sklearn.preprocessing import StandardScaler\n",
    "import statsmodels.api as sm"
   ]
  },
  {
   "cell_type": "code",
   "execution_count": 2,
   "id": "2220a51d",
   "metadata": {},
   "outputs": [
    {
     "data": {
      "text/html": [
       "<div>\n",
       "<style scoped>\n",
       "    .dataframe tbody tr th:only-of-type {\n",
       "        vertical-align: middle;\n",
       "    }\n",
       "\n",
       "    .dataframe tbody tr th {\n",
       "        vertical-align: top;\n",
       "    }\n",
       "\n",
       "    .dataframe thead th {\n",
       "        text-align: right;\n",
       "    }\n",
       "</style>\n",
       "<table border=\"1\" class=\"dataframe\">\n",
       "  <thead>\n",
       "    <tr style=\"text-align: right;\">\n",
       "      <th></th>\n",
       "      <th>employee_id</th>\n",
       "      <th>department</th>\n",
       "      <th>region</th>\n",
       "      <th>education</th>\n",
       "      <th>gender</th>\n",
       "      <th>recruitment_channel</th>\n",
       "      <th>no_of_trainings</th>\n",
       "      <th>age</th>\n",
       "      <th>previous_year_rating</th>\n",
       "      <th>length_of_service</th>\n",
       "      <th>KPIs_met &gt;80%</th>\n",
       "      <th>awards_won?</th>\n",
       "      <th>avg_training_score</th>\n",
       "      <th>is_promoted</th>\n",
       "    </tr>\n",
       "  </thead>\n",
       "  <tbody>\n",
       "    <tr>\n",
       "      <th>0</th>\n",
       "      <td>65438</td>\n",
       "      <td>Sales &amp; Marketing</td>\n",
       "      <td>region_7</td>\n",
       "      <td>Master's &amp; above</td>\n",
       "      <td>f</td>\n",
       "      <td>sourcing</td>\n",
       "      <td>1</td>\n",
       "      <td>35</td>\n",
       "      <td>5.0</td>\n",
       "      <td>8</td>\n",
       "      <td>1</td>\n",
       "      <td>0</td>\n",
       "      <td>49</td>\n",
       "      <td>0</td>\n",
       "    </tr>\n",
       "    <tr>\n",
       "      <th>1</th>\n",
       "      <td>65141</td>\n",
       "      <td>Operations</td>\n",
       "      <td>region_22</td>\n",
       "      <td>Bachelor's</td>\n",
       "      <td>m</td>\n",
       "      <td>other</td>\n",
       "      <td>1</td>\n",
       "      <td>30</td>\n",
       "      <td>5.0</td>\n",
       "      <td>4</td>\n",
       "      <td>0</td>\n",
       "      <td>0</td>\n",
       "      <td>60</td>\n",
       "      <td>0</td>\n",
       "    </tr>\n",
       "    <tr>\n",
       "      <th>2</th>\n",
       "      <td>7513</td>\n",
       "      <td>Sales &amp; Marketing</td>\n",
       "      <td>region_19</td>\n",
       "      <td>Bachelor's</td>\n",
       "      <td>m</td>\n",
       "      <td>sourcing</td>\n",
       "      <td>1</td>\n",
       "      <td>34</td>\n",
       "      <td>3.0</td>\n",
       "      <td>7</td>\n",
       "      <td>0</td>\n",
       "      <td>0</td>\n",
       "      <td>50</td>\n",
       "      <td>0</td>\n",
       "    </tr>\n",
       "    <tr>\n",
       "      <th>3</th>\n",
       "      <td>2542</td>\n",
       "      <td>Sales &amp; Marketing</td>\n",
       "      <td>region_23</td>\n",
       "      <td>Bachelor's</td>\n",
       "      <td>m</td>\n",
       "      <td>other</td>\n",
       "      <td>2</td>\n",
       "      <td>39</td>\n",
       "      <td>1.0</td>\n",
       "      <td>10</td>\n",
       "      <td>0</td>\n",
       "      <td>0</td>\n",
       "      <td>50</td>\n",
       "      <td>0</td>\n",
       "    </tr>\n",
       "    <tr>\n",
       "      <th>4</th>\n",
       "      <td>48945</td>\n",
       "      <td>Technology</td>\n",
       "      <td>region_26</td>\n",
       "      <td>Bachelor's</td>\n",
       "      <td>m</td>\n",
       "      <td>other</td>\n",
       "      <td>1</td>\n",
       "      <td>45</td>\n",
       "      <td>3.0</td>\n",
       "      <td>2</td>\n",
       "      <td>0</td>\n",
       "      <td>0</td>\n",
       "      <td>73</td>\n",
       "      <td>0</td>\n",
       "    </tr>\n",
       "  </tbody>\n",
       "</table>\n",
       "</div>"
      ],
      "text/plain": [
       "   employee_id         department     region         education gender  \\\n",
       "0        65438  Sales & Marketing   region_7  Master's & above      f   \n",
       "1        65141         Operations  region_22        Bachelor's      m   \n",
       "2         7513  Sales & Marketing  region_19        Bachelor's      m   \n",
       "3         2542  Sales & Marketing  region_23        Bachelor's      m   \n",
       "4        48945         Technology  region_26        Bachelor's      m   \n",
       "\n",
       "  recruitment_channel  no_of_trainings  age  previous_year_rating  \\\n",
       "0            sourcing                1   35                   5.0   \n",
       "1               other                1   30                   5.0   \n",
       "2            sourcing                1   34                   3.0   \n",
       "3               other                2   39                   1.0   \n",
       "4               other                1   45                   3.0   \n",
       "\n",
       "   length_of_service  KPIs_met >80%  awards_won?  avg_training_score  \\\n",
       "0                  8              1            0                  49   \n",
       "1                  4              0            0                  60   \n",
       "2                  7              0            0                  50   \n",
       "3                 10              0            0                  50   \n",
       "4                  2              0            0                  73   \n",
       "\n",
       "   is_promoted  \n",
       "0            0  \n",
       "1            0  \n",
       "2            0  \n",
       "3            0  \n",
       "4            0  "
      ]
     },
     "execution_count": 2,
     "metadata": {},
     "output_type": "execute_result"
    }
   ],
   "source": [
    "train_data=pd.read_csv(r\"C:\\Users\\jakha\\Downloads\\hr analytic full\\train_LZdllcl.csv\")\n",
    "test_data=pd.read_csv(r\"C:\\Users\\jakha\\Downloads\\hr analytic full\\test_2umaH9m.csv\")\n",
    "sample_submision=pd.read_csv(r\"C:\\Users\\jakha\\Downloads\\hr analytic full\\sample_submission_M0L0uXE.csv\")\n",
    "train_data.head()"
   ]
  },
  {
   "cell_type": "code",
   "execution_count": 3,
   "id": "3350787b",
   "metadata": {},
   "outputs": [
    {
     "data": {
      "text/html": [
       "<div>\n",
       "<style scoped>\n",
       "    .dataframe tbody tr th:only-of-type {\n",
       "        vertical-align: middle;\n",
       "    }\n",
       "\n",
       "    .dataframe tbody tr th {\n",
       "        vertical-align: top;\n",
       "    }\n",
       "\n",
       "    .dataframe thead th {\n",
       "        text-align: right;\n",
       "    }\n",
       "</style>\n",
       "<table border=\"1\" class=\"dataframe\">\n",
       "  <thead>\n",
       "    <tr style=\"text-align: right;\">\n",
       "      <th></th>\n",
       "      <th>employee_id</th>\n",
       "      <th>department</th>\n",
       "      <th>region</th>\n",
       "      <th>education</th>\n",
       "      <th>gender</th>\n",
       "      <th>recruitment_channel</th>\n",
       "      <th>no_of_trainings</th>\n",
       "      <th>age</th>\n",
       "      <th>previous_year_rating</th>\n",
       "      <th>length_of_service</th>\n",
       "      <th>KPIs_met &gt;80%</th>\n",
       "      <th>awards_won?</th>\n",
       "      <th>avg_training_score</th>\n",
       "    </tr>\n",
       "  </thead>\n",
       "  <tbody>\n",
       "    <tr>\n",
       "      <th>0</th>\n",
       "      <td>8724</td>\n",
       "      <td>Technology</td>\n",
       "      <td>region_26</td>\n",
       "      <td>Bachelor's</td>\n",
       "      <td>m</td>\n",
       "      <td>sourcing</td>\n",
       "      <td>1</td>\n",
       "      <td>24</td>\n",
       "      <td>NaN</td>\n",
       "      <td>1</td>\n",
       "      <td>1</td>\n",
       "      <td>0</td>\n",
       "      <td>77</td>\n",
       "    </tr>\n",
       "    <tr>\n",
       "      <th>1</th>\n",
       "      <td>74430</td>\n",
       "      <td>HR</td>\n",
       "      <td>region_4</td>\n",
       "      <td>Bachelor's</td>\n",
       "      <td>f</td>\n",
       "      <td>other</td>\n",
       "      <td>1</td>\n",
       "      <td>31</td>\n",
       "      <td>3.0</td>\n",
       "      <td>5</td>\n",
       "      <td>0</td>\n",
       "      <td>0</td>\n",
       "      <td>51</td>\n",
       "    </tr>\n",
       "    <tr>\n",
       "      <th>2</th>\n",
       "      <td>72255</td>\n",
       "      <td>Sales &amp; Marketing</td>\n",
       "      <td>region_13</td>\n",
       "      <td>Bachelor's</td>\n",
       "      <td>m</td>\n",
       "      <td>other</td>\n",
       "      <td>1</td>\n",
       "      <td>31</td>\n",
       "      <td>1.0</td>\n",
       "      <td>4</td>\n",
       "      <td>0</td>\n",
       "      <td>0</td>\n",
       "      <td>47</td>\n",
       "    </tr>\n",
       "    <tr>\n",
       "      <th>3</th>\n",
       "      <td>38562</td>\n",
       "      <td>Procurement</td>\n",
       "      <td>region_2</td>\n",
       "      <td>Bachelor's</td>\n",
       "      <td>f</td>\n",
       "      <td>other</td>\n",
       "      <td>3</td>\n",
       "      <td>31</td>\n",
       "      <td>2.0</td>\n",
       "      <td>9</td>\n",
       "      <td>0</td>\n",
       "      <td>0</td>\n",
       "      <td>65</td>\n",
       "    </tr>\n",
       "    <tr>\n",
       "      <th>4</th>\n",
       "      <td>64486</td>\n",
       "      <td>Finance</td>\n",
       "      <td>region_29</td>\n",
       "      <td>Bachelor's</td>\n",
       "      <td>m</td>\n",
       "      <td>sourcing</td>\n",
       "      <td>1</td>\n",
       "      <td>30</td>\n",
       "      <td>4.0</td>\n",
       "      <td>7</td>\n",
       "      <td>0</td>\n",
       "      <td>0</td>\n",
       "      <td>61</td>\n",
       "    </tr>\n",
       "  </tbody>\n",
       "</table>\n",
       "</div>"
      ],
      "text/plain": [
       "   employee_id         department     region   education gender  \\\n",
       "0         8724         Technology  region_26  Bachelor's      m   \n",
       "1        74430                 HR   region_4  Bachelor's      f   \n",
       "2        72255  Sales & Marketing  region_13  Bachelor's      m   \n",
       "3        38562        Procurement   region_2  Bachelor's      f   \n",
       "4        64486            Finance  region_29  Bachelor's      m   \n",
       "\n",
       "  recruitment_channel  no_of_trainings  age  previous_year_rating  \\\n",
       "0            sourcing                1   24                   NaN   \n",
       "1               other                1   31                   3.0   \n",
       "2               other                1   31                   1.0   \n",
       "3               other                3   31                   2.0   \n",
       "4            sourcing                1   30                   4.0   \n",
       "\n",
       "   length_of_service  KPIs_met >80%  awards_won?  avg_training_score  \n",
       "0                  1              1            0                  77  \n",
       "1                  5              0            0                  51  \n",
       "2                  4              0            0                  47  \n",
       "3                  9              0            0                  65  \n",
       "4                  7              0            0                  61  "
      ]
     },
     "execution_count": 3,
     "metadata": {},
     "output_type": "execute_result"
    }
   ],
   "source": [
    "test_data.head()"
   ]
  },
  {
   "cell_type": "code",
   "execution_count": 4,
   "id": "96f46137",
   "metadata": {},
   "outputs": [
    {
     "data": {
      "text/plain": [
       "((54808, 14), (23490, 13), (23490, 2))"
      ]
     },
     "execution_count": 4,
     "metadata": {},
     "output_type": "execute_result"
    }
   ],
   "source": [
    "train_data.shape,test_data.shape,sample_submision.shape"
   ]
  },
  {
   "cell_type": "code",
   "execution_count": 5,
   "id": "45b75c93",
   "metadata": {},
   "outputs": [
    {
     "data": {
      "text/html": [
       "<div>\n",
       "<style scoped>\n",
       "    .dataframe tbody tr th:only-of-type {\n",
       "        vertical-align: middle;\n",
       "    }\n",
       "\n",
       "    .dataframe tbody tr th {\n",
       "        vertical-align: top;\n",
       "    }\n",
       "\n",
       "    .dataframe thead th {\n",
       "        text-align: right;\n",
       "    }\n",
       "</style>\n",
       "<table border=\"1\" class=\"dataframe\">\n",
       "  <thead>\n",
       "    <tr style=\"text-align: right;\">\n",
       "      <th></th>\n",
       "      <th>employee_id</th>\n",
       "      <th>department</th>\n",
       "      <th>region</th>\n",
       "      <th>education</th>\n",
       "      <th>gender</th>\n",
       "      <th>recruitment_channel</th>\n",
       "      <th>no_of_trainings</th>\n",
       "      <th>age</th>\n",
       "      <th>previous_year_rating</th>\n",
       "      <th>length_of_service</th>\n",
       "      <th>KPIs_met &gt;80%</th>\n",
       "      <th>awards_won?</th>\n",
       "      <th>avg_training_score</th>\n",
       "      <th>is_promoted</th>\n",
       "    </tr>\n",
       "  </thead>\n",
       "  <tbody>\n",
       "    <tr>\n",
       "      <th>0</th>\n",
       "      <td>65438</td>\n",
       "      <td>Sales &amp; Marketing</td>\n",
       "      <td>region_7</td>\n",
       "      <td>Master's &amp; above</td>\n",
       "      <td>f</td>\n",
       "      <td>sourcing</td>\n",
       "      <td>1</td>\n",
       "      <td>35</td>\n",
       "      <td>5.0</td>\n",
       "      <td>8</td>\n",
       "      <td>1</td>\n",
       "      <td>0</td>\n",
       "      <td>49</td>\n",
       "      <td>0.0</td>\n",
       "    </tr>\n",
       "    <tr>\n",
       "      <th>1</th>\n",
       "      <td>65141</td>\n",
       "      <td>Operations</td>\n",
       "      <td>region_22</td>\n",
       "      <td>Bachelor's</td>\n",
       "      <td>m</td>\n",
       "      <td>other</td>\n",
       "      <td>1</td>\n",
       "      <td>30</td>\n",
       "      <td>5.0</td>\n",
       "      <td>4</td>\n",
       "      <td>0</td>\n",
       "      <td>0</td>\n",
       "      <td>60</td>\n",
       "      <td>0.0</td>\n",
       "    </tr>\n",
       "    <tr>\n",
       "      <th>2</th>\n",
       "      <td>7513</td>\n",
       "      <td>Sales &amp; Marketing</td>\n",
       "      <td>region_19</td>\n",
       "      <td>Bachelor's</td>\n",
       "      <td>m</td>\n",
       "      <td>sourcing</td>\n",
       "      <td>1</td>\n",
       "      <td>34</td>\n",
       "      <td>3.0</td>\n",
       "      <td>7</td>\n",
       "      <td>0</td>\n",
       "      <td>0</td>\n",
       "      <td>50</td>\n",
       "      <td>0.0</td>\n",
       "    </tr>\n",
       "    <tr>\n",
       "      <th>3</th>\n",
       "      <td>2542</td>\n",
       "      <td>Sales &amp; Marketing</td>\n",
       "      <td>region_23</td>\n",
       "      <td>Bachelor's</td>\n",
       "      <td>m</td>\n",
       "      <td>other</td>\n",
       "      <td>2</td>\n",
       "      <td>39</td>\n",
       "      <td>1.0</td>\n",
       "      <td>10</td>\n",
       "      <td>0</td>\n",
       "      <td>0</td>\n",
       "      <td>50</td>\n",
       "      <td>0.0</td>\n",
       "    </tr>\n",
       "    <tr>\n",
       "      <th>4</th>\n",
       "      <td>48945</td>\n",
       "      <td>Technology</td>\n",
       "      <td>region_26</td>\n",
       "      <td>Bachelor's</td>\n",
       "      <td>m</td>\n",
       "      <td>other</td>\n",
       "      <td>1</td>\n",
       "      <td>45</td>\n",
       "      <td>3.0</td>\n",
       "      <td>2</td>\n",
       "      <td>0</td>\n",
       "      <td>0</td>\n",
       "      <td>73</td>\n",
       "      <td>0.0</td>\n",
       "    </tr>\n",
       "  </tbody>\n",
       "</table>\n",
       "</div>"
      ],
      "text/plain": [
       "   employee_id         department     region         education gender  \\\n",
       "0        65438  Sales & Marketing   region_7  Master's & above      f   \n",
       "1        65141         Operations  region_22        Bachelor's      m   \n",
       "2         7513  Sales & Marketing  region_19        Bachelor's      m   \n",
       "3         2542  Sales & Marketing  region_23        Bachelor's      m   \n",
       "4        48945         Technology  region_26        Bachelor's      m   \n",
       "\n",
       "  recruitment_channel  no_of_trainings  age  previous_year_rating  \\\n",
       "0            sourcing                1   35                   5.0   \n",
       "1               other                1   30                   5.0   \n",
       "2            sourcing                1   34                   3.0   \n",
       "3               other                2   39                   1.0   \n",
       "4               other                1   45                   3.0   \n",
       "\n",
       "   length_of_service  KPIs_met >80%  awards_won?  avg_training_score  \\\n",
       "0                  8              1            0                  49   \n",
       "1                  4              0            0                  60   \n",
       "2                  7              0            0                  50   \n",
       "3                 10              0            0                  50   \n",
       "4                  2              0            0                  73   \n",
       "\n",
       "   is_promoted  \n",
       "0          0.0  \n",
       "1          0.0  \n",
       "2          0.0  \n",
       "3          0.0  \n",
       "4          0.0  "
      ]
     },
     "execution_count": 5,
     "metadata": {},
     "output_type": "execute_result"
    }
   ],
   "source": [
    "full_data=pd.concat([train_data,test_data])\n",
    "full_data.head()"
   ]
  },
  {
   "cell_type": "code",
   "execution_count": 6,
   "id": "169d3de8",
   "metadata": {},
   "outputs": [
    {
     "data": {
      "text/plain": [
       "(78298, 14)"
      ]
     },
     "execution_count": 6,
     "metadata": {},
     "output_type": "execute_result"
    }
   ],
   "source": [
    "full_data.shape"
   ]
  },
  {
   "cell_type": "markdown",
   "id": "021475eb",
   "metadata": {},
   "source": [
    "# lets explore the data\n"
   ]
  },
  {
   "cell_type": "code",
   "execution_count": 7,
   "id": "855538f2",
   "metadata": {},
   "outputs": [
    {
     "data": {
      "text/plain": [
       "employee_id                 0\n",
       "department                  0\n",
       "region                      0\n",
       "education                3443\n",
       "gender                      0\n",
       "recruitment_channel         0\n",
       "no_of_trainings             0\n",
       "age                         0\n",
       "previous_year_rating     5936\n",
       "length_of_service           0\n",
       "KPIs_met >80%               0\n",
       "awards_won?                 0\n",
       "avg_training_score          0\n",
       "is_promoted             23490\n",
       "dtype: int64"
      ]
     },
     "execution_count": 7,
     "metadata": {},
     "output_type": "execute_result"
    }
   ],
   "source": [
    "full_data.isnull().sum()"
   ]
  },
  {
   "cell_type": "markdown",
   "id": "5668bb33",
   "metadata": {},
   "source": [
    "* null values are present in education,previous year ratings"
   ]
  },
  {
   "cell_type": "markdown",
   "id": "f0580101",
   "metadata": {},
   "source": [
    "# Univarient analysis"
   ]
  },
  {
   "cell_type": "markdown",
   "id": "b97ad0db",
   "metadata": {},
   "source": [
    "# feature 1 :: employee id"
   ]
  },
  {
   "cell_type": "code",
   "execution_count": 8,
   "id": "120e217e",
   "metadata": {},
   "outputs": [
    {
     "data": {
      "text/plain": [
       "78298"
      ]
     },
     "execution_count": 8,
     "metadata": {},
     "output_type": "execute_result"
    }
   ],
   "source": [
    "len(full_data.employee_id.unique())"
   ]
  },
  {
   "cell_type": "markdown",
   "id": "8130404c",
   "metadata": {},
   "source": [
    "* all values are unique in employee id so it is not informative for me"
   ]
  },
  {
   "cell_type": "code",
   "execution_count": 9,
   "id": "3ef880e7",
   "metadata": {},
   "outputs": [
    {
     "data": {
      "text/plain": [
       "(78298, 13)"
      ]
     },
     "execution_count": 9,
     "metadata": {},
     "output_type": "execute_result"
    }
   ],
   "source": [
    "full_data.drop('employee_id',axis=1,inplace=True)\n",
    "full_data.shape"
   ]
  },
  {
   "cell_type": "markdown",
   "id": "ec2ed423",
   "metadata": {},
   "source": [
    "# feature 2 :: department"
   ]
  },
  {
   "cell_type": "code",
   "execution_count": 10,
   "id": "31ab777a",
   "metadata": {},
   "outputs": [
    {
     "data": {
      "text/plain": [
       "array(['Sales & Marketing', 'Operations', 'Technology', 'Analytics',\n",
       "       'R&D', 'Procurement', 'Finance', 'HR', 'Legal'], dtype=object)"
      ]
     },
     "execution_count": 10,
     "metadata": {},
     "output_type": "execute_result"
    }
   ],
   "source": [
    "full_data.department.unique()"
   ]
  },
  {
   "cell_type": "markdown",
   "id": "315f10a8",
   "metadata": {},
   "source": [
    "* there are 8 unique departments "
   ]
  },
  {
   "cell_type": "code",
   "execution_count": 11,
   "id": "bb86c0f1",
   "metadata": {},
   "outputs": [
    {
     "data": {
      "text/plain": [
       "Sales & Marketing    30.850086\n",
       "Operations           20.577793\n",
       "Procurement          12.973511\n",
       "Technology           12.962017\n",
       "Analytics             9.797185\n",
       "Finance               4.632302\n",
       "HR                    4.473933\n",
       "Legal                 1.895323\n",
       "R&D                   1.837850\n",
       "Name: department, dtype: float64"
      ]
     },
     "execution_count": 11,
     "metadata": {},
     "output_type": "execute_result"
    }
   ],
   "source": [
    "full_data.department.value_counts([0])*100"
   ]
  },
  {
   "cell_type": "markdown",
   "id": "de393aca",
   "metadata": {},
   "source": [
    "* sales and marketing have 30 persent of total  workers ,legal and R & D have only 1.83 percent worker"
   ]
  },
  {
   "cell_type": "code",
   "execution_count": 12,
   "id": "366aea60",
   "metadata": {},
   "outputs": [
    {
     "data": {
      "text/plain": [
       "0"
      ]
     },
     "execution_count": 12,
     "metadata": {},
     "output_type": "execute_result"
    }
   ],
   "source": [
    "full_data.department.isnull().sum() # no null value persent"
   ]
  },
  {
   "cell_type": "markdown",
   "id": "7e2d3db6",
   "metadata": {},
   "source": [
    "# feature :: 3 region "
   ]
  },
  {
   "cell_type": "code",
   "execution_count": 13,
   "id": "0778766e",
   "metadata": {},
   "outputs": [
    {
     "data": {
      "text/plain": [
       "34"
      ]
     },
     "execution_count": 13,
     "metadata": {},
     "output_type": "execute_result"
    }
   ],
   "source": [
    "len(full_data.region.unique())# 34 unique region are given in the columns"
   ]
  },
  {
   "cell_type": "code",
   "execution_count": 14,
   "id": "8b672c03",
   "metadata": {},
   "outputs": [
    {
     "data": {
      "text/plain": [
       "region_2     22.531865\n",
       "region_22    11.707834\n",
       "region_7      8.716698\n",
       "region_15     5.029503\n",
       "region_13     4.872411\n",
       "region_26     4.177629\n",
       "region_31     3.549261\n",
       "region_4      3.164832\n",
       "region_27     3.025620\n",
       "region_16     2.624588\n",
       "region_28     2.443230\n",
       "region_11     2.408746\n",
       "region_23     2.159698\n",
       "region_29     1.798258\n",
       "region_32     1.759943\n",
       "region_19     1.639889\n",
       "region_14     1.503231\n",
       "region_20     1.501954\n",
       "region_17     1.477688\n",
       "region_25     1.476411\n",
       "region_5      1.415106\n",
       "region_6      1.261846\n",
       "region_30     1.187770\n",
       "region_8      1.180107\n",
       "region_10     1.171167\n",
       "region_1      1.083042\n",
       "region_24     0.928504\n",
       "region_12     0.913178\n",
       "region_9      0.766303\n",
       "region_21     0.753531\n",
       "region_3      0.629646\n",
       "region_34     0.570896\n",
       "region_33     0.504483\n",
       "region_18     0.065136\n",
       "Name: region, dtype: float64"
      ]
     },
     "execution_count": 14,
     "metadata": {},
     "output_type": "execute_result"
    }
   ],
   "source": [
    "full_data.region.value_counts([0])*100 # except 1 or 2 regions all other regions have very few population"
   ]
  },
  {
   "cell_type": "code",
   "execution_count": 15,
   "id": "f16b74af",
   "metadata": {},
   "outputs": [
    {
     "data": {
      "text/plain": [
       "<AxesSubplot:xlabel='region', ylabel='Density'>"
      ]
     },
     "execution_count": 15,
     "metadata": {},
     "output_type": "execute_result"
    },
    {
     "data": {
      "image/png": "[encoded data removed]",
      "text/plain": [
       "<Figure size 432x288 with 1 Axes>"
      ]
     },
     "metadata": {
      "needs_background": "light"
     },
     "output_type": "display_data"
    }
   ],
   "source": [
    "mapp=full_data.region.value_counts() # lets replace the region by there frequency of apearance\n",
    "full_data.region=full_data.region.apply(lambda x:mapp[x])\n",
    "sns.distplot(full_data.region)"
   ]
  },
  {
   "cell_type": "code",
   "execution_count": 16,
   "id": "188a2df9",
   "metadata": {},
   "outputs": [
    {
     "data": {
      "text/plain": [
       "<AxesSubplot:xlabel='region'>"
      ]
     },
     "execution_count": 16,
     "metadata": {},
     "output_type": "execute_result"
    },
    {
     "data": {
      "image/png": "[encoded data removed]",
      "text/plain": [
       "<Figure size 432x288 with 1 Axes>"
      ]
     },
     "metadata": {
      "needs_background": "light"
     },
     "output_type": "display_data"
    }
   ],
   "source": [
    "sns.boxplot(((full_data.region)))"
   ]
  },
  {
   "cell_type": "markdown",
   "id": "2f91a816",
   "metadata": {},
   "source": [
    "# feature 4 ::education"
   ]
  },
  {
   "cell_type": "code",
   "execution_count": 17,
   "id": "04f9aef3",
   "metadata": {},
   "outputs": [
    {
     "data": {
      "text/plain": [
       "array([\"Master's & above\", \"Bachelor's\", nan, 'Below Secondary'],\n",
       "      dtype=object)"
      ]
     },
     "execution_count": 17,
     "metadata": {},
     "output_type": "execute_result"
    }
   ],
   "source": [
    "full_data.education.unique()# three unique values and nan is present"
   ]
  },
  {
   "cell_type": "code",
   "execution_count": 18,
   "id": "ba830166",
   "metadata": {},
   "outputs": [
    {
     "data": {
      "text/plain": [
       "Bachelor's          69.797609\n",
       "Master's & above    28.627346\n",
       "Below Secondary      1.575045\n",
       "Name: education, dtype: float64"
      ]
     },
     "execution_count": 18,
     "metadata": {},
     "output_type": "execute_result"
    }
   ],
   "source": [
    "full_data.education.value_counts([0])*100 # almost 70 percent employee are bechelors degree and only 1.5 percent are below sec"
   ]
  },
  {
   "cell_type": "code",
   "execution_count": 19,
   "id": "067881b6",
   "metadata": {},
   "outputs": [],
   "source": [
    "full_data.education=full_data.education.replace({\"Master's & above\":2, \"Bachelor's\":1,  'Below Secondary':0})"
   ]
  },
  {
   "cell_type": "code",
   "execution_count": 20,
   "id": "bbc93ad5",
   "metadata": {},
   "outputs": [
    {
     "data": {
      "text/plain": [
       "array([ 2.,  1., nan,  0.])"
      ]
     },
     "execution_count": 20,
     "metadata": {},
     "output_type": "execute_result"
    }
   ],
   "source": [
    "full_data.education.unique()"
   ]
  },
  {
   "cell_type": "code",
   "execution_count": 21,
   "id": "f1132e4f",
   "metadata": {},
   "outputs": [
    {
     "data": {
      "text/plain": [
       "dtype('float64')"
      ]
     },
     "execution_count": 21,
     "metadata": {},
     "output_type": "execute_result"
    }
   ],
   "source": [
    "full_data.education.dtypes"
   ]
  },
  {
   "cell_type": "code",
   "execution_count": 22,
   "id": "32052958",
   "metadata": {},
   "outputs": [
    {
     "data": {
      "text/plain": [
       "3443"
      ]
     },
     "execution_count": 22,
     "metadata": {},
     "output_type": "execute_result"
    }
   ],
   "source": [
    "full_data.education.isnull().sum() # there are 3443 null values in education lets treat them by knn model"
   ]
  },
  {
   "cell_type": "code",
   "execution_count": 23,
   "id": "60bc9fe5",
   "metadata": {},
   "outputs": [],
   "source": [
    "from sklearn.neighbors import KNeighborsClassifier\n",
    "knn=KNeighborsClassifier()"
   ]
  },
  {
   "cell_type": "code",
   "execution_count": 24,
   "id": "e1004f69",
   "metadata": {},
   "outputs": [],
   "source": [
    "ed_full_data=full_data.copy()\n",
    "ed_full_data=pd.get_dummies(ed_full_data,drop_first=True)\n",
    "xedtopredict=ed_full_data.loc[full_data.education.isnull(),:]\n",
    "xedtrain=ed_full_data.loc[~full_data.education.isnull(),:]\n",
    "xedpnew=xedtopredict.drop(['education','previous_year_rating','is_promoted'],axis=1)\n",
    "xedtnew=xedtrain.drop(['previous_year_rating','is_promoted'],axis=1)\n",
    "yed=xedtnew.education\n",
    "xedtnew=xedtnew.drop('education',axis=1)\n",
    "modeled=knn.fit(xedtnew,yed)\n",
    "edpredict=modeled.predict(xedpnew)"
   ]
  },
  {
   "cell_type": "code",
   "execution_count": 25,
   "id": "588da383",
   "metadata": {},
   "outputs": [
    {
     "data": {
      "text/plain": [
       "department                  0\n",
       "region                      0\n",
       "education                   0\n",
       "gender                      0\n",
       "recruitment_channel         0\n",
       "no_of_trainings             0\n",
       "age                         0\n",
       "previous_year_rating     5936\n",
       "length_of_service           0\n",
       "KPIs_met >80%               0\n",
       "awards_won?                 0\n",
       "avg_training_score          0\n",
       "is_promoted             23490\n",
       "dtype: int64"
      ]
     },
     "execution_count": 25,
     "metadata": {},
     "output_type": "execute_result"
    }
   ],
   "source": [
    "full_data.loc[full_data.education.isnull(),'education']=edpredict\n",
    "full_data.isnull().sum()"
   ]
  },
  {
   "cell_type": "markdown",
   "id": "3548d763",
   "metadata": {},
   "source": [
    "# feature5 :: gender"
   ]
  },
  {
   "cell_type": "code",
   "execution_count": 26,
   "id": "778e950e",
   "metadata": {},
   "outputs": [
    {
     "data": {
      "text/plain": [
       "array(['f', 'm'], dtype=object)"
      ]
     },
     "execution_count": 26,
     "metadata": {},
     "output_type": "execute_result"
    }
   ],
   "source": [
    "full_data.gender.unique()# two categories in gender"
   ]
  },
  {
   "cell_type": "code",
   "execution_count": 27,
   "id": "0180e454",
   "metadata": {},
   "outputs": [
    {
     "data": {
      "text/plain": [
       "m    0.70362\n",
       "f    0.29638\n",
       "Name: gender, dtype: float64"
      ]
     },
     "execution_count": 27,
     "metadata": {},
     "output_type": "execute_result"
    }
   ],
   "source": [
    "full_data.gender.value_counts([0])# 70 percent of employees are male remaining are female"
   ]
  },
  {
   "cell_type": "code",
   "execution_count": 28,
   "id": "423bb2aa",
   "metadata": {},
   "outputs": [],
   "source": [
    "full_data.gender=full_data.gender.replace({'m':1,'f':0})"
   ]
  },
  {
   "cell_type": "markdown",
   "id": "d8f12617",
   "metadata": {},
   "source": [
    "# feature 6 :: recruitment chennel"
   ]
  },
  {
   "cell_type": "code",
   "execution_count": 29,
   "id": "b23393ea",
   "metadata": {},
   "outputs": [
    {
     "data": {
      "text/plain": [
       "array(['sourcing', 'other', 'referred'], dtype=object)"
      ]
     },
     "execution_count": 29,
     "metadata": {},
     "output_type": "execute_result"
    }
   ],
   "source": [
    "full_data.recruitment_channel.unique() # there are 3 type of recruitment chennel"
   ]
  },
  {
   "cell_type": "code",
   "execution_count": 30,
   "id": "6c1ed80d",
   "metadata": {},
   "outputs": [
    {
     "data": {
      "text/plain": [
       "other       55.587627\n",
       "sourcing    42.377839\n",
       "referred     2.034535\n",
       "Name: recruitment_channel, dtype: float64"
      ]
     },
     "execution_count": 30,
     "metadata": {},
     "output_type": "execute_result"
    }
   ],
   "source": [
    "full_data.recruitment_channel.value_counts([0])*100 # 2 percent employee are recruited by reference and 42 percent by sourcing else by other"
   ]
  },
  {
   "cell_type": "markdown",
   "id": "61eefd68",
   "metadata": {},
   "source": [
    "# feature 7 :: no_of_trainings"
   ]
  },
  {
   "cell_type": "code",
   "execution_count": 31,
   "id": "6981d817",
   "metadata": {},
   "outputs": [
    {
     "data": {
      "text/plain": [
       "array([ 1,  2,  3,  4,  7,  5,  6,  8, 10,  9], dtype=int64)"
      ]
     },
     "execution_count": 31,
     "metadata": {},
     "output_type": "execute_result"
    }
   ],
   "source": [
    "full_data.no_of_trainings.unique()# employees has 1 to 10 numbers of trainings"
   ]
  },
  {
   "cell_type": "code",
   "execution_count": 32,
   "id": "cea7ea9f",
   "metadata": {},
   "outputs": [
    {
     "data": {
      "text/plain": [
       "1     0.808526\n",
       "2     0.147271\n",
       "3     0.032325\n",
       "4     0.008404\n",
       "5     0.002095\n",
       "6     0.000868\n",
       "7     0.000268\n",
       "8     0.000089\n",
       "9     0.000089\n",
       "10    0.000064\n",
       "Name: no_of_trainings, dtype: float64"
      ]
     },
     "execution_count": 32,
     "metadata": {},
     "output_type": "execute_result"
    }
   ],
   "source": [
    "full_data.no_of_trainings.value_counts([0])# 80 percent of employee gone through 1 trainings"
   ]
  },
  {
   "cell_type": "code",
   "execution_count": 33,
   "id": "cbfd2fc5",
   "metadata": {},
   "outputs": [
    {
     "data": {
      "text/plain": [
       "<AxesSubplot:xlabel='no_of_trainings', ylabel='Density'>"
      ]
     },
     "execution_count": 33,
     "metadata": {},
     "output_type": "execute_result"
    },
    {
     "data": {
      "image/png": "[encoded data removed]",
      "text/plain": [
       "<Figure size 432x288 with 1 Axes>"
      ]
     },
     "metadata": {
      "needs_background": "light"
     },
     "output_type": "display_data"
    }
   ],
   "source": [
    "sns.distplot(full_data.no_of_trainings)# large number of outlier we can been this in categories"
   ]
  },
  {
   "cell_type": "code",
   "execution_count": 34,
   "id": "a197767f",
   "metadata": {},
   "outputs": [],
   "source": [
    "full_data.no_of_trainings=full_data.no_of_trainings.apply(lambda x:'one' if x==1 else 'morethan1')\n",
    "full_data.no_of_trainings=full_data.no_of_trainings.replace({'one':0,'morethan1':1})"
   ]
  },
  {
   "cell_type": "markdown",
   "id": "6cde0d12",
   "metadata": {},
   "source": [
    "# feature 8:: Age"
   ]
  },
  {
   "cell_type": "code",
   "execution_count": 35,
   "id": "c9f7a64c",
   "metadata": {},
   "outputs": [
    {
     "data": {
      "text/plain": [
       "array([35, 30, 34, 39, 45, 31, 33, 28, 32, 49, 37, 38, 41, 27, 29, 26, 24,\n",
       "       57, 40, 42, 23, 59, 44, 50, 56, 20, 25, 47, 36, 46, 60, 43, 22, 54,\n",
       "       58, 48, 53, 55, 51, 52, 21], dtype=int64)"
      ]
     },
     "execution_count": 35,
     "metadata": {},
     "output_type": "execute_result"
    }
   ],
   "source": [
    "full_data.age.unique()"
   ]
  },
  {
   "cell_type": "code",
   "execution_count": 36,
   "id": "495bf797",
   "metadata": {},
   "outputs": [
    {
     "data": {
      "text/plain": [
       "<AxesSubplot:xlabel='age', ylabel='Density'>"
      ]
     },
     "execution_count": 36,
     "metadata": {},
     "output_type": "execute_result"
    },
    {
     "data": {
      "image/png": "[encoded data removed]",
      "text/plain": [
       "<Figure size 432x288 with 1 Axes>"
      ]
     },
     "metadata": {
      "needs_background": "light"
     },
     "output_type": "display_data"
    }
   ],
   "source": [
    "sns.distplot(full_data.age)# normally distributed and not muchh outliers are present"
   ]
  },
  {
   "cell_type": "code",
   "execution_count": 37,
   "id": "359e3504",
   "metadata": {},
   "outputs": [
    {
     "data": {
      "text/plain": [
       "<AxesSubplot:xlabel='age', ylabel='Density'>"
      ]
     },
     "execution_count": 37,
     "metadata": {},
     "output_type": "execute_result"
    },
    {
     "data": {
      "image/png": "[encoded data removed]",
      "text/plain": [
       "<Figure size 432x288 with 1 Axes>"
      ]
     },
     "metadata": {
      "needs_background": "light"
     },
     "output_type": "display_data"
    }
   ],
   "source": [
    "sns.distplot(np.log(full_data.age))"
   ]
  },
  {
   "cell_type": "code",
   "execution_count": 38,
   "id": "ca9db56c",
   "metadata": {},
   "outputs": [
    {
     "data": {
      "text/plain": [
       "<AxesSubplot:xlabel='age'>"
      ]
     },
     "execution_count": 38,
     "metadata": {},
     "output_type": "execute_result"
    },
    {
     "data": {
      "image/png": "[encoded data removed]",
      "text/plain": [
       "<Figure size 432x288 with 1 Axes>"
      ]
     },
     "metadata": {
      "needs_background": "light"
     },
     "output_type": "display_data"
    }
   ],
   "source": [
    "sns.boxplot(np.log(full_data.age))"
   ]
  },
  {
   "cell_type": "code",
   "execution_count": 39,
   "id": "723495ad",
   "metadata": {},
   "outputs": [],
   "source": [
    "full_data.age=np.log(full_data.age)"
   ]
  },
  {
   "cell_type": "markdown",
   "id": "18f9ecfa",
   "metadata": {},
   "source": [
    "# feature 9 : previous year ratings"
   ]
  },
  {
   "cell_type": "code",
   "execution_count": 40,
   "id": "51ad2854",
   "metadata": {},
   "outputs": [
    {
     "data": {
      "text/plain": [
       "array([ 5.,  3.,  1.,  4., nan,  2.])"
      ]
     },
     "execution_count": 40,
     "metadata": {},
     "output_type": "execute_result"
    }
   ],
   "source": [
    "full_data.previous_year_rating.unique()# ratings are on the scale 1 to 5"
   ]
  },
  {
   "cell_type": "code",
   "execution_count": 41,
   "id": "86254938",
   "metadata": {},
   "outputs": [
    {
     "data": {
      "text/plain": [
       "3.0    36.675327\n",
       "5.0    23.269119\n",
       "4.0    19.521296\n",
       "1.0    12.303419\n",
       "2.0     8.230839\n",
       "Name: previous_year_rating, dtype: float64"
      ]
     },
     "execution_count": 41,
     "metadata": {},
     "output_type": "execute_result"
    }
   ],
   "source": [
    "full_data.previous_year_rating.value_counts([0])*100 # 36 percent of employee get 3 star of ratings only 23 percent have 5 *"
   ]
  },
  {
   "cell_type": "code",
   "execution_count": 42,
   "id": "472e311b",
   "metadata": {},
   "outputs": [],
   "source": [
    "# have null values lets treat using knn"
   ]
  },
  {
   "cell_type": "code",
   "execution_count": 43,
   "id": "95e4325c",
   "metadata": {},
   "outputs": [
    {
     "data": {
      "text/plain": [
       "5936"
      ]
     },
     "execution_count": 43,
     "metadata": {},
     "output_type": "execute_result"
    }
   ],
   "source": [
    "full_data.previous_year_rating.isnull().sum() # around 6000 of null values lets treat using knn"
   ]
  },
  {
   "cell_type": "code",
   "execution_count": 44,
   "id": "66961ec8",
   "metadata": {},
   "outputs": [
    {
     "data": {
      "text/plain": [
       "department                  0\n",
       "region                      0\n",
       "education                   0\n",
       "gender                      0\n",
       "recruitment_channel         0\n",
       "no_of_trainings             0\n",
       "age                         0\n",
       "previous_year_rating        0\n",
       "length_of_service           0\n",
       "KPIs_met >80%               0\n",
       "awards_won?                 0\n",
       "avg_training_score          0\n",
       "is_promoted             23490\n",
       "dtype: int64"
      ]
     },
     "execution_count": 44,
     "metadata": {},
     "output_type": "execute_result"
    }
   ],
   "source": [
    "knnp=KNeighborsClassifier()\n",
    "ratingnulltreatment=full_data.drop('is_promoted',axis=1)\n",
    "ratingnulltreatment=pd.get_dummies(ratingnulltreatment,drop_first=True)\n",
    "trainrating=ratingnulltreatment.loc[~ratingnulltreatment.previous_year_rating.isnull(),]\n",
    "ratingforprediction=ratingnulltreatment.loc[ratingnulltreatment.previous_year_rating.isnull(),]\n",
    "xratingtr=trainrating.drop('previous_year_rating',axis=1)\n",
    "yratingtr=trainrating.previous_year_rating\n",
    "ratingforprediction.drop('previous_year_rating',inplace=True,axis=1)\n",
    "modelrating=knnp.fit(xratingtr,yratingtr)\n",
    "predictedrat=modelrating.predict(ratingforprediction)\n",
    "full_data.loc[full_data.previous_year_rating.isnull(),'previous_year_rating']=predictedrat\n",
    "full_data.isnull().sum()#all null values are treated"
   ]
  },
  {
   "cell_type": "markdown",
   "id": "9c2d16c1",
   "metadata": {},
   "source": [
    "# feature 10 ::length of service"
   ]
  },
  {
   "cell_type": "code",
   "execution_count": 45,
   "id": "85aa39c3",
   "metadata": {},
   "outputs": [
    {
     "data": {
      "text/plain": [
       "0     8\n",
       "1     4\n",
       "2     7\n",
       "3    10\n",
       "4     2\n",
       "Name: length_of_service, dtype: int64"
      ]
     },
     "execution_count": 45,
     "metadata": {},
     "output_type": "execute_result"
    }
   ],
   "source": [
    "full_data.length_of_service.head()"
   ]
  },
  {
   "cell_type": "code",
   "execution_count": 46,
   "id": "dffd8adc",
   "metadata": {},
   "outputs": [
    {
     "data": {
      "text/plain": [
       "count    78298.000000\n",
       "mean         5.848974\n",
       "std          4.248070\n",
       "min          1.000000\n",
       "25%          3.000000\n",
       "50%          5.000000\n",
       "75%          7.000000\n",
       "max         37.000000\n",
       "Name: length_of_service, dtype: float64"
      ]
     },
     "execution_count": 46,
     "metadata": {},
     "output_type": "execute_result"
    }
   ],
   "source": [
    "full_data.length_of_service.describe()# avg is around 5.8 median is also around 5 but max=37 means outlier present"
   ]
  },
  {
   "cell_type": "code",
   "execution_count": 47,
   "id": "4eee646d",
   "metadata": {},
   "outputs": [
    {
     "data": {
      "text/plain": [
       "<AxesSubplot:xlabel='length_of_service'>"
      ]
     },
     "execution_count": 47,
     "metadata": {},
     "output_type": "execute_result"
    },
    {
     "data": {
      "image/png": "[encoded data removed]",
      "text/plain": [
       "<Figure size 432x288 with 1 Axes>"
      ]
     },
     "metadata": {
      "needs_background": "light"
     },
     "output_type": "display_data"
    }
   ],
   "source": [
    "#lets examine the outlier and distribution\n",
    "sns.boxplot(full_data.length_of_service)# outliers are present "
   ]
  },
  {
   "cell_type": "code",
   "execution_count": 48,
   "id": "d4705bbe",
   "metadata": {},
   "outputs": [
    {
     "data": {
      "text/plain": [
       "<AxesSubplot:xlabel='length_of_service', ylabel='Density'>"
      ]
     },
     "execution_count": 48,
     "metadata": {},
     "output_type": "execute_result"
    },
    {
     "data": {
      "image/png": "[encoded data removed]",
      "text/plain": [
       "<Figure size 432x288 with 1 Axes>"
      ]
     },
     "metadata": {
      "needs_background": "light"
     },
     "output_type": "display_data"
    }
   ],
   "source": [
    "sns.distplot((full_data.length_of_service))"
   ]
  },
  {
   "cell_type": "code",
   "execution_count": 49,
   "id": "a0fe7b32",
   "metadata": {},
   "outputs": [
    {
     "data": {
      "text/plain": [
       "<AxesSubplot:xlabel='length_of_service'>"
      ]
     },
     "execution_count": 49,
     "metadata": {},
     "output_type": "execute_result"
    },
    {
     "data": {
      "image/png": "[encoded data removed]",
      "text/plain": [
       "<Figure size 432x288 with 1 Axes>"
      ]
     },
     "metadata": {
      "needs_background": "light"
     },
     "output_type": "display_data"
    }
   ],
   "source": [
    "# lets treat outliers using caping\n",
    "q5,q90=np.quantile(full_data.length_of_service,[.05,.90])\n",
    "full_data.loc[full_data.length_of_service<q5,'length_of_service']=q5\n",
    "full_data.loc[full_data.length_of_service>q90,'length_of_service']=q90\n",
    "sns.boxplot(full_data.length_of_service)"
   ]
  },
  {
   "cell_type": "code",
   "execution_count": 50,
   "id": "ea783daa",
   "metadata": {},
   "outputs": [
    {
     "data": {
      "text/plain": [
       "<AxesSubplot:xlabel='length_of_service', ylabel='Density'>"
      ]
     },
     "execution_count": 50,
     "metadata": {},
     "output_type": "execute_result"
    },
    {
     "data": {
      "image/png": "[encoded data removed]",
      "text/plain": [
       "<Figure size 432x288 with 1 Axes>"
      ]
     },
     "metadata": {
      "needs_background": "light"
     },
     "output_type": "display_data"
    }
   ],
   "source": [
    "sns.distplot(full_data.length_of_service)# better now"
   ]
  },
  {
   "cell_type": "markdown",
   "id": "a87c8875",
   "metadata": {},
   "source": [
    "# feature11 :: KPIs_met"
   ]
  },
  {
   "cell_type": "code",
   "execution_count": 51,
   "id": "83b38b4a",
   "metadata": {},
   "outputs": [
    {
     "data": {
      "text/plain": [
       "array([1, 0], dtype=int64)"
      ]
     },
     "execution_count": 51,
     "metadata": {},
     "output_type": "execute_result"
    }
   ],
   "source": [
    "full_data['KPIs_met >80%'].unique()"
   ]
  },
  {
   "cell_type": "code",
   "execution_count": 52,
   "id": "4b288a33",
   "metadata": {},
   "outputs": [
    {
     "data": {
      "text/plain": [
       "0    0.645968\n",
       "1    0.354032\n",
       "Name: KPIs_met >80%, dtype: float64"
      ]
     },
     "execution_count": 52,
     "metadata": {},
     "output_type": "execute_result"
    }
   ],
   "source": [
    "full_data['KPIs_met >80%'].value_counts([0])# inly 35 percent employees met KPIs"
   ]
  },
  {
   "cell_type": "markdown",
   "id": "49c21b87",
   "metadata": {},
   "source": [
    "# feature 12:::award_won"
   ]
  },
  {
   "cell_type": "code",
   "execution_count": 53,
   "id": "079bc0cd",
   "metadata": {},
   "outputs": [
    {
     "data": {
      "text/plain": [
       "array([0, 1], dtype=int64)"
      ]
     },
     "execution_count": 53,
     "metadata": {},
     "output_type": "execute_result"
    }
   ],
   "source": [
    "full_data['awards_won?'].unique()"
   ]
  },
  {
   "cell_type": "code",
   "execution_count": 54,
   "id": "174c388f",
   "metadata": {},
   "outputs": [
    {
     "data": {
      "text/plain": [
       "0    0.976947\n",
       "1    0.023053\n",
       "Name: awards_won?, dtype: float64"
      ]
     },
     "execution_count": 54,
     "metadata": {},
     "output_type": "execute_result"
    }
   ],
   "source": [
    "full_data['awards_won?'].value_counts([0])# only 2 percent of employees won the awards"
   ]
  },
  {
   "cell_type": "markdown",
   "id": "2348ce01",
   "metadata": {},
   "source": [
    "# feature 13::avg training score"
   ]
  },
  {
   "cell_type": "code",
   "execution_count": 55,
   "id": "376f9505",
   "metadata": {},
   "outputs": [
    {
     "data": {
      "text/plain": [
       "0    49\n",
       "1    60\n",
       "2    50\n",
       "3    50\n",
       "4    73\n",
       "Name: avg_training_score, dtype: int64"
      ]
     },
     "execution_count": 55,
     "metadata": {},
     "output_type": "execute_result"
    }
   ],
   "source": [
    "full_data.avg_training_score.head()"
   ]
  },
  {
   "cell_type": "code",
   "execution_count": 56,
   "id": "2e7f7d61",
   "metadata": {},
   "outputs": [
    {
     "data": {
      "text/plain": [
       "count    78298.000000\n",
       "mean        63.349664\n",
       "std         13.383664\n",
       "min         39.000000\n",
       "25%         51.000000\n",
       "50%         60.000000\n",
       "75%         76.000000\n",
       "max         99.000000\n",
       "Name: avg_training_score, dtype: float64"
      ]
     },
     "execution_count": 56,
     "metadata": {},
     "output_type": "execute_result"
    }
   ],
   "source": [
    "full_data.avg_training_score.describe()# less chance of outliers"
   ]
  },
  {
   "cell_type": "code",
   "execution_count": 57,
   "id": "7738e1a7",
   "metadata": {},
   "outputs": [
    {
     "data": {
      "text/plain": [
       "<AxesSubplot:xlabel='avg_training_score', ylabel='Density'>"
      ]
     },
     "execution_count": 57,
     "metadata": {},
     "output_type": "execute_result"
    },
    {
     "data": {
      "image/png": "[encoded data removed]",
      "text/plain": [
       "<Figure size 432x288 with 1 Axes>"
      ]
     },
     "metadata": {
      "needs_background": "light"
     },
     "output_type": "display_data"
    }
   ],
   "source": [
    "sns.distplot(full_data.avg_training_score)"
   ]
  },
  {
   "cell_type": "code",
   "execution_count": 58,
   "id": "f10a2460",
   "metadata": {},
   "outputs": [
    {
     "data": {
      "text/plain": [
       "<AxesSubplot:xlabel='avg_training_score'>"
      ]
     },
     "execution_count": 58,
     "metadata": {},
     "output_type": "execute_result"
    },
    {
     "data": {
      "image/png": "[encoded data removed]",
      "text/plain": [
       "<Figure size 432x288 with 1 Axes>"
      ]
     },
     "metadata": {
      "needs_background": "light"
     },
     "output_type": "display_data"
    }
   ],
   "source": [
    "sns.boxplot(full_data.avg_training_score) # no outlier present"
   ]
  },
  {
   "cell_type": "code",
   "execution_count": 59,
   "id": "abe472b2",
   "metadata": {},
   "outputs": [
    {
     "data": {
      "text/plain": [
       "<AxesSubplot:xlabel='avg_training_score', ylabel='Density'>"
      ]
     },
     "execution_count": 59,
     "metadata": {},
     "output_type": "execute_result"
    },
    {
     "data": {
      "image/png": "[encoded data removed]",
      "text/plain": [
       "<Figure size 432x288 with 1 Axes>"
      ]
     },
     "metadata": {
      "needs_background": "light"
     },
     "output_type": "display_data"
    }
   ],
   "source": [
    "sns.distplot(np.log(full_data.avg_training_score))"
   ]
  },
  {
   "cell_type": "code",
   "execution_count": 60,
   "id": "ffe47aeb",
   "metadata": {},
   "outputs": [
    {
     "data": {
      "text/plain": [
       "<AxesSubplot:xlabel='avg_training_score'>"
      ]
     },
     "execution_count": 60,
     "metadata": {},
     "output_type": "execute_result"
    },
    {
     "data": {
      "image/png": "[encoded data removed]",
      "text/plain": [
       "<Figure size 432x288 with 1 Axes>"
      ]
     },
     "metadata": {
      "needs_background": "light"
     },
     "output_type": "display_data"
    }
   ],
   "source": [
    "sns.boxplot(np.log(full_data.avg_training_score))"
   ]
  },
  {
   "cell_type": "code",
   "execution_count": 61,
   "id": "ed4ccbbe",
   "metadata": {},
   "outputs": [],
   "source": [
    "full_data.avg_training_score=np.log(full_data.avg_training_score)"
   ]
  },
  {
   "cell_type": "markdown",
   "id": "44121afe",
   "metadata": {},
   "source": [
    "# after exmine all the data let check and encode and then split data"
   ]
  },
  {
   "cell_type": "code",
   "execution_count": 62,
   "id": "53192dd1",
   "metadata": {},
   "outputs": [
    {
     "data": {
      "text/plain": [
       "department               object\n",
       "region                    int64\n",
       "education               float64\n",
       "gender                    int64\n",
       "recruitment_channel      object\n",
       "no_of_trainings           int64\n",
       "age                     float64\n",
       "previous_year_rating    float64\n",
       "length_of_service         int64\n",
       "KPIs_met >80%             int64\n",
       "awards_won?               int64\n",
       "avg_training_score      float64\n",
       "is_promoted             float64\n",
       "dtype: object"
      ]
     },
     "execution_count": 62,
     "metadata": {},
     "output_type": "execute_result"
    }
   ],
   "source": [
    "full_data.dtypes"
   ]
  },
  {
   "cell_type": "markdown",
   "id": "3921e54d",
   "metadata": {},
   "source": [
    "# lets get dummies then proceed"
   ]
  },
  {
   "cell_type": "code",
   "execution_count": 63,
   "id": "0620814c",
   "metadata": {},
   "outputs": [
    {
     "data": {
      "text/plain": [
       "(78298, 13)"
      ]
     },
     "execution_count": 63,
     "metadata": {},
     "output_type": "execute_result"
    }
   ],
   "source": [
    "full_data.shape"
   ]
  },
  {
   "cell_type": "code",
   "execution_count": 64,
   "id": "20104546",
   "metadata": {},
   "outputs": [],
   "source": [
    "full_data_encoded=pd.get_dummies(full_data,drop_first=True)"
   ]
  },
  {
   "cell_type": "code",
   "execution_count": 65,
   "id": "4bd5def8",
   "metadata": {},
   "outputs": [
    {
     "data": {
      "text/plain": [
       "(78298, 21)"
      ]
     },
     "execution_count": 65,
     "metadata": {},
     "output_type": "execute_result"
    }
   ],
   "source": [
    "full_data_encoded.shape"
   ]
  },
  {
   "cell_type": "code",
   "execution_count": 66,
   "id": "05f925bf",
   "metadata": {},
   "outputs": [],
   "source": [
    "# lets seprate data in original train test"
   ]
  },
  {
   "cell_type": "code",
   "execution_count": 67,
   "id": "bf0e6da0",
   "metadata": {},
   "outputs": [],
   "source": [
    "train_processed_data=full_data_encoded.loc[~full_data_encoded.is_promoted.isnull(),]\n",
    "X=train_processed_data.drop('is_promoted',axis=1)\n",
    "y=train_processed_data.is_promoted"
   ]
  },
  {
   "cell_type": "code",
   "execution_count": 68,
   "id": "ce8698eb",
   "metadata": {},
   "outputs": [],
   "source": [
    "test_processed_data=full_data_encoded.loc[full_data_encoded.is_promoted.isnull(),]\n",
    "test_processed_data=test_processed_data.drop('is_promoted',axis=1)"
   ]
  },
  {
   "cell_type": "code",
   "execution_count": 69,
   "id": "9d7cce01",
   "metadata": {},
   "outputs": [],
   "source": [
    "# lets divide train processed data in train and test for verification and scale the data"
   ]
  },
  {
   "cell_type": "code",
   "execution_count": 70,
   "id": "756cf9de",
   "metadata": {},
   "outputs": [
    {
     "data": {
      "text/plain": [
       "((38365, 20), (16443, 20), (38365,), (16443,))"
      ]
     },
     "execution_count": 70,
     "metadata": {},
     "output_type": "execute_result"
    }
   ],
   "source": [
    "X_train,X_test,y_train,y_test=train_test_split(X,y,test_size=0.30,stratify=y,random_state=4)\n",
    "X_train.shape,X_test.shape,y_train.shape,y_test.shape"
   ]
  },
  {
   "cell_type": "code",
   "execution_count": 71,
   "id": "6a572e0f",
   "metadata": {},
   "outputs": [],
   "source": [
    "# lets scale Data"
   ]
  },
  {
   "cell_type": "code",
   "execution_count": 72,
   "id": "256fe929",
   "metadata": {},
   "outputs": [],
   "source": [
    "sc=StandardScaler()"
   ]
  },
  {
   "cell_type": "markdown",
   "id": "3e4f3a6d",
   "metadata": {},
   "source": [
    " *lets extract numerical variables for scaling"
   ]
  },
  {
   "cell_type": "code",
   "execution_count": 73,
   "id": "78eb1c25",
   "metadata": {},
   "outputs": [
    {
     "data": {
      "text/plain": [
       "Index(['region', 'education', 'gender', 'no_of_trainings', 'age',\n",
       "       'previous_year_rating', 'length_of_service', 'KPIs_met >80%',\n",
       "       'awards_won?', 'avg_training_score', 'department_Finance',\n",
       "       'department_HR', 'department_Legal', 'department_Operations',\n",
       "       'department_Procurement', 'department_R&D',\n",
       "       'department_Sales & Marketing', 'department_Technology',\n",
       "       'recruitment_channel_referred', 'recruitment_channel_sourcing'],\n",
       "      dtype='object')"
      ]
     },
     "execution_count": 73,
     "metadata": {},
     "output_type": "execute_result"
    }
   ],
   "source": [
    "X_train.columns"
   ]
  },
  {
   "cell_type": "code",
   "execution_count": 74,
   "id": "fafb80aa",
   "metadata": {},
   "outputs": [],
   "source": [
    "num=['region', 'education','no_of_trainings', 'age','previous_year_rating', 'length_of_service','avg_training_score']"
   ]
  },
  {
   "cell_type": "code",
   "execution_count": 75,
   "id": "a405296f",
   "metadata": {},
   "outputs": [
    {
     "data": {
      "text/html": [
       "<style>#sk-container-id-1 {color: black;background-color: white;}#sk-container-id-1 pre{padding: 0;}#sk-container-id-1 div.sk-toggleable {background-color: white;}#sk-container-id-1 label.sk-toggleable__label {cursor: pointer;display: block;width: 100%;margin-bottom: 0;padding: 0.3em;box-sizing: border-box;text-align: center;}#sk-container-id-1 label.sk-toggleable__label-arrow:before {content: \"▸\";float: left;margin-right: 0.25em;color: #696969;}#sk-container-id-1 label.sk-toggleable__label-arrow:hover:before {color: black;}#sk-container-id-1 div.sk-estimator:hover label.sk-toggleable__label-arrow:before {color: black;}#sk-container-id-1 div.sk-toggleable__content {max-height: 0;max-width: 0;overflow: hidden;text-align: left;background-color: #f0f8ff;}#sk-container-id-1 div.sk-toggleable__content pre {margin: 0.2em;color: black;border-radius: 0.25em;background-color: #f0f8ff;}#sk-container-id-1 input.sk-toggleable__control:checked~div.sk-toggleable__content {max-height: 200px;max-width: 100%;overflow: auto;}#sk-container-id-1 input.sk-toggleable__control:checked~label.sk-toggleable__label-arrow:before {content: \"▾\";}#sk-container-id-1 div.sk-estimator input.sk-toggleable__control:checked~label.sk-toggleable__label {background-color: #d4ebff;}#sk-container-id-1 div.sk-label input.sk-toggleable__control:checked~label.sk-toggleable__label {background-color: #d4ebff;}#sk-container-id-1 input.sk-hidden--visually {border: 0;clip: rect(1px 1px 1px 1px);clip: rect(1px, 1px, 1px, 1px);height: 1px;margin: -1px;overflow: hidden;padding: 0;position: absolute;width: 1px;}#sk-container-id-1 div.sk-estimator {font-family: monospace;background-color: #f0f8ff;border: 1px dotted black;border-radius: 0.25em;box-sizing: border-box;margin-bottom: 0.5em;}#sk-container-id-1 div.sk-estimator:hover {background-color: #d4ebff;}#sk-container-id-1 div.sk-parallel-item::after {content: \"\";width: 100%;border-bottom: 1px solid gray;flex-grow: 1;}#sk-container-id-1 div.sk-label:hover label.sk-toggleable__label {background-color: #d4ebff;}#sk-container-id-1 div.sk-serial::before {content: \"\";position: absolute;border-left: 1px solid gray;box-sizing: border-box;top: 0;bottom: 0;left: 50%;z-index: 0;}#sk-container-id-1 div.sk-serial {display: flex;flex-direction: column;align-items: center;background-color: white;padding-right: 0.2em;padding-left: 0.2em;position: relative;}#sk-container-id-1 div.sk-item {position: relative;z-index: 1;}#sk-container-id-1 div.sk-parallel {display: flex;align-items: stretch;justify-content: center;background-color: white;position: relative;}#sk-container-id-1 div.sk-item::before, #sk-container-id-1 div.sk-parallel-item::before {content: \"\";position: absolute;border-left: 1px solid gray;box-sizing: border-box;top: 0;bottom: 0;left: 50%;z-index: -1;}#sk-container-id-1 div.sk-parallel-item {display: flex;flex-direction: column;z-index: 1;position: relative;background-color: white;}#sk-container-id-1 div.sk-parallel-item:first-child::after {align-self: flex-end;width: 50%;}#sk-container-id-1 div.sk-parallel-item:last-child::after {align-self: flex-start;width: 50%;}#sk-container-id-1 div.sk-parallel-item:only-child::after {width: 0;}#sk-container-id-1 div.sk-dashed-wrapped {border: 1px dashed gray;margin: 0 0.4em 0.5em 0.4em;box-sizing: border-box;padding-bottom: 0.4em;background-color: white;}#sk-container-id-1 div.sk-label label {font-family: monospace;font-weight: bold;display: inline-block;line-height: 1.2em;}#sk-container-id-1 div.sk-label-container {text-align: center;}#sk-container-id-1 div.sk-container {/* jupyter's `normalize.less` sets `[hidden] { display: none; }` but bootstrap.min.css set `[hidden] { display: none !important; }` so we also need the `!important` here to be able to override the default hidden behavior on the sphinx rendered scikit-learn.org. See: https://github.com/scikit-learn/scikit-learn/issues/21755 */display: inline-block !important;position: relative;}#sk-container-id-1 div.sk-text-repr-fallback {display: none;}</style><div id=\"sk-container-id-1\" class=\"sk-top-container\"><div class=\"sk-text-repr-fallback\"><pre>StandardScaler()</pre><b>In a Jupyter environment, please rerun this cell to show the HTML representation or trust the notebook. <br />On GitHub, the HTML representation is unable to render, please try loading this page with nbviewer.org.</b></div><div class=\"sk-container\" hidden><div class=\"sk-item\"><div class=\"sk-estimator sk-toggleable\"><input class=\"sk-toggleable__control sk-hidden--visually\" id=\"sk-estimator-id-1\" type=\"checkbox\" checked><label for=\"sk-estimator-id-1\" class=\"sk-toggleable__label sk-toggleable__label-arrow\">StandardScaler</label><div class=\"sk-toggleable__content\"><pre>StandardScaler()</pre></div></div></div></div></div>"
      ],
      "text/plain": [
       "StandardScaler()"
      ]
     },
     "execution_count": 75,
     "metadata": {},
     "output_type": "execute_result"
    }
   ],
   "source": [
    "sc.fit(X_train[num])"
   ]
  },
  {
   "cell_type": "code",
   "execution_count": 76,
   "id": "1494ba16",
   "metadata": {},
   "outputs": [],
   "source": [
    "X_train.loc[:,num]=sc.transform(X_train[num])\n",
    "X_test.loc[:,num]=sc.transform(X_test[num])\n",
    "test_processed_data.loc[:,num]=sc.transform(test_processed_data[num])"
   ]
  },
  {
   "cell_type": "markdown",
   "id": "dc6984bd",
   "metadata": {},
   "source": [
    "# Data is ready for Modeling"
   ]
  },
  {
   "cell_type": "markdown",
   "id": "63535948",
   "metadata": {},
   "source": [
    "# Model 1::Linear Logistic"
   ]
  },
  {
   "cell_type": "code",
   "execution_count": 77,
   "id": "9b26a602",
   "metadata": {},
   "outputs": [
    {
     "name": "stdout",
     "output_type": "stream",
     "text": [
      "Optimization terminated successfully.\n",
      "         Current function value: 0.200989\n",
      "         Iterations 8\n"
     ]
    },
    {
     "data": {
      "text/html": [
       "<table class=\"simpletable\">\n",
       "<caption>Logit Regression Results</caption>\n",
       "<tr>\n",
       "  <th>Dep. Variable:</th>      <td>is_promoted</td>   <th>  No. Observations:  </th>  <td> 38365</td> \n",
       "</tr>\n",
       "<tr>\n",
       "  <th>Model:</th>                 <td>Logit</td>      <th>  Df Residuals:      </th>  <td> 38344</td> \n",
       "</tr>\n",
       "<tr>\n",
       "  <th>Method:</th>                 <td>MLE</td>       <th>  Df Model:          </th>  <td>    20</td> \n",
       "</tr>\n",
       "<tr>\n",
       "  <th>Date:</th>            <td>Thu, 18 Aug 2022</td> <th>  Pseudo R-squ.:     </th>  <td>0.3099</td> \n",
       "</tr>\n",
       "<tr>\n",
       "  <th>Time:</th>                <td>20:20:58</td>     <th>  Log-Likelihood:    </th> <td> -7711.0</td>\n",
       "</tr>\n",
       "<tr>\n",
       "  <th>converged:</th>             <td>True</td>       <th>  LL-Null:           </th> <td> -11174.</td>\n",
       "</tr>\n",
       "<tr>\n",
       "  <th>Covariance Type:</th>     <td>nonrobust</td>    <th>  LLR p-value:       </th>  <td> 0.000</td> \n",
       "</tr>\n",
       "</table>\n",
       "<table class=\"simpletable\">\n",
       "<tr>\n",
       "                <td></td>                  <th>coef</th>     <th>std err</th>      <th>z</th>      <th>P>|z|</th>  <th>[0.025</th>    <th>0.975]</th>  \n",
       "</tr>\n",
       "<tr>\n",
       "  <th>region</th>                       <td>    0.0583</td> <td>    0.023</td> <td>    2.540</td> <td> 0.011</td> <td>    0.013</td> <td>    0.103</td>\n",
       "</tr>\n",
       "<tr>\n",
       "  <th>education</th>                    <td>    0.1425</td> <td>    0.024</td> <td>    5.983</td> <td> 0.000</td> <td>    0.096</td> <td>    0.189</td>\n",
       "</tr>\n",
       "<tr>\n",
       "  <th>gender</th>                       <td>    0.0325</td> <td>    0.049</td> <td>    0.661</td> <td> 0.509</td> <td>   -0.064</td> <td>    0.129</td>\n",
       "</tr>\n",
       "<tr>\n",
       "  <th>no_of_trainings</th>              <td>   -0.0650</td> <td>    0.023</td> <td>   -2.815</td> <td> 0.005</td> <td>   -0.110</td> <td>   -0.020</td>\n",
       "</tr>\n",
       "<tr>\n",
       "  <th>age</th>                          <td>   -0.2561</td> <td>    0.032</td> <td>   -8.089</td> <td> 0.000</td> <td>   -0.318</td> <td>   -0.194</td>\n",
       "</tr>\n",
       "<tr>\n",
       "  <th>previous_year_rating</th>         <td>    0.3095</td> <td>    0.025</td> <td>   12.283</td> <td> 0.000</td> <td>    0.260</td> <td>    0.359</td>\n",
       "</tr>\n",
       "<tr>\n",
       "  <th>length_of_service</th>            <td>    0.1303</td> <td>    0.029</td> <td>    4.570</td> <td> 0.000</td> <td>    0.074</td> <td>    0.186</td>\n",
       "</tr>\n",
       "<tr>\n",
       "  <th>KPIs_met >80%</th>                <td>    1.8804</td> <td>    0.052</td> <td>   35.970</td> <td> 0.000</td> <td>    1.778</td> <td>    1.983</td>\n",
       "</tr>\n",
       "<tr>\n",
       "  <th>awards_won?</th>                  <td>    1.4994</td> <td>    0.093</td> <td>   16.191</td> <td> 0.000</td> <td>    1.318</td> <td>    1.681</td>\n",
       "</tr>\n",
       "<tr>\n",
       "  <th>avg_training_score</th>           <td>    4.0692</td> <td>    0.081</td> <td>   50.128</td> <td> 0.000</td> <td>    3.910</td> <td>    4.228</td>\n",
       "</tr>\n",
       "<tr>\n",
       "  <th>department_Finance</th>           <td>    6.2555</td> <td>    0.174</td> <td>   35.892</td> <td> 0.000</td> <td>    5.914</td> <td>    6.597</td>\n",
       "</tr>\n",
       "<tr>\n",
       "  <th>department_HR</th>                <td>    9.4978</td> <td>    0.239</td> <td>   39.709</td> <td> 0.000</td> <td>    9.029</td> <td>    9.967</td>\n",
       "</tr>\n",
       "<tr>\n",
       "  <th>department_Legal</th>             <td>    5.9975</td> <td>    0.246</td> <td>   24.401</td> <td> 0.000</td> <td>    5.516</td> <td>    6.479</td>\n",
       "</tr>\n",
       "<tr>\n",
       "  <th>department_Operations</th>        <td>    6.3581</td> <td>    0.150</td> <td>   42.310</td> <td> 0.000</td> <td>    6.064</td> <td>    6.653</td>\n",
       "</tr>\n",
       "<tr>\n",
       "  <th>department_Procurement</th>       <td>    3.6194</td> <td>    0.111</td> <td>   32.576</td> <td> 0.000</td> <td>    3.402</td> <td>    3.837</td>\n",
       "</tr>\n",
       "<tr>\n",
       "  <th>department_R&D</th>               <td>   -0.4073</td> <td>    0.170</td> <td>   -2.399</td> <td> 0.016</td> <td>   -0.740</td> <td>   -0.075</td>\n",
       "</tr>\n",
       "<tr>\n",
       "  <th>department_Sales & Marketing</th> <td>    9.9269</td> <td>    0.211</td> <td>   47.062</td> <td> 0.000</td> <td>    9.514</td> <td>   10.340</td>\n",
       "</tr>\n",
       "<tr>\n",
       "  <th>department_Technology</th>        <td>    1.4030</td> <td>    0.085</td> <td>   16.602</td> <td> 0.000</td> <td>    1.237</td> <td>    1.569</td>\n",
       "</tr>\n",
       "<tr>\n",
       "  <th>recruitment_channel_referred</th> <td>   -0.0203</td> <td>    0.135</td> <td>   -0.151</td> <td> 0.880</td> <td>   -0.284</td> <td>    0.244</td>\n",
       "</tr>\n",
       "<tr>\n",
       "  <th>recruitment_channel_sourcing</th> <td>    0.0090</td> <td>    0.044</td> <td>    0.204</td> <td> 0.838</td> <td>   -0.077</td> <td>    0.095</td>\n",
       "</tr>\n",
       "<tr>\n",
       "  <th>const</th>                        <td>   -9.8727</td> <td>    0.164</td> <td>  -60.056</td> <td> 0.000</td> <td>  -10.195</td> <td>   -9.551</td>\n",
       "</tr>\n",
       "</table>"
      ],
      "text/plain": [
       "<class 'statsmodels.iolib.summary.Summary'>\n",
       "\"\"\"\n",
       "                           Logit Regression Results                           \n",
       "==============================================================================\n",
       "Dep. Variable:            is_promoted   No. Observations:                38365\n",
       "Model:                          Logit   Df Residuals:                    38344\n",
       "Method:                           MLE   Df Model:                           20\n",
       "Date:                Thu, 18 Aug 2022   Pseudo R-squ.:                  0.3099\n",
       "Time:                        20:20:58   Log-Likelihood:                -7711.0\n",
       "converged:                       True   LL-Null:                       -11174.\n",
       "Covariance Type:            nonrobust   LLR p-value:                     0.000\n",
       "================================================================================================\n",
       "                                   coef    std err          z      P>|z|      [0.025      0.975]\n",
       "------------------------------------------------------------------------------------------------\n",
       "region                           0.0583      0.023      2.540      0.011       0.013       0.103\n",
       "education                        0.1425      0.024      5.983      0.000       0.096       0.189\n",
       "gender                           0.0325      0.049      0.661      0.509      -0.064       0.129\n",
       "no_of_trainings                 -0.0650      0.023     -2.815      0.005      -0.110      -0.020\n",
       "age                             -0.2561      0.032     -8.089      0.000      -0.318      -0.194\n",
       "previous_year_rating             0.3095      0.025     12.283      0.000       0.260       0.359\n",
       "length_of_service                0.1303      0.029      4.570      0.000       0.074       0.186\n",
       "KPIs_met >80%                    1.8804      0.052     35.970      0.000       1.778       1.983\n",
       "awards_won?                      1.4994      0.093     16.191      0.000       1.318       1.681\n",
       "avg_training_score               4.0692      0.081     50.128      0.000       3.910       4.228\n",
       "department_Finance               6.2555      0.174     35.892      0.000       5.914       6.597\n",
       "department_HR                    9.4978      0.239     39.709      0.000       9.029       9.967\n",
       "department_Legal                 5.9975      0.246     24.401      0.000       5.516       6.479\n",
       "department_Operations            6.3581      0.150     42.310      0.000       6.064       6.653\n",
       "department_Procurement           3.6194      0.111     32.576      0.000       3.402       3.837\n",
       "department_R&D                  -0.4073      0.170     -2.399      0.016      -0.740      -0.075\n",
       "department_Sales & Marketing     9.9269      0.211     47.062      0.000       9.514      10.340\n",
       "department_Technology            1.4030      0.085     16.602      0.000       1.237       1.569\n",
       "recruitment_channel_referred    -0.0203      0.135     -0.151      0.880      -0.284       0.244\n",
       "recruitment_channel_sourcing     0.0090      0.044      0.204      0.838      -0.077       0.095\n",
       "const                           -9.8727      0.164    -60.056      0.000     -10.195      -9.551\n",
       "================================================================================================\n",
       "\"\"\""
      ]
     },
     "execution_count": 77,
     "metadata": {},
     "output_type": "execute_result"
    }
   ],
   "source": [
    "X_train['const']=1\n",
    "X_test['const']=1\n",
    "model_logistic=sm.Logit(y_train,X_train).fit()\n",
    "model_logistic.summary()"
   ]
  },
  {
   "cell_type": "code",
   "execution_count": 78,
   "id": "fdee89af",
   "metadata": {},
   "outputs": [],
   "source": [
    "ypridicted=model_logistic.predict(X_train)"
   ]
  },
  {
   "cell_type": "code",
   "execution_count": 79,
   "id": "9c099243",
   "metadata": {},
   "outputs": [],
   "source": [
    "ypridictedp5=[0 if x <0.5 else 1 for x in ypridicted]"
   ]
  },
  {
   "cell_type": "code",
   "execution_count": 80,
   "id": "93ab82eb",
   "metadata": {},
   "outputs": [],
   "source": [
    "from sklearn.metrics import accuracy_score,f1_score,roc_curve"
   ]
  },
  {
   "cell_type": "code",
   "execution_count": 81,
   "id": "52609aaa",
   "metadata": {},
   "outputs": [
    {
     "data": {
      "text/plain": [
       "(0.9319953082236413, 0.38827667057444315)"
      ]
     },
     "execution_count": 81,
     "metadata": {},
     "output_type": "execute_result"
    }
   ],
   "source": [
    "accuracy_score(y_train,ypridictedp5),f1_score(y_train,ypridictedp5)"
   ]
  },
  {
   "cell_type": "markdown",
   "id": "cc2b7f06",
   "metadata": {},
   "source": [
    "* lets check the youndens index and find threshold probability"
   ]
  },
  {
   "cell_type": "code",
   "execution_count": 82,
   "id": "cb95a98d",
   "metadata": {},
   "outputs": [],
   "source": [
    "def youndensthres(yact,ypridictprob):\n",
    "    fpr,tpr,thres=roc_curve(yact,ypridictprob)\n",
    "    table=pd.DataFrame({'FPR':fpr,'TPR':tpr,'thres':thres,'diff':np.abs(fpr-tpr)})\n",
    "    thres=table.sort_values('diff',ascending=False).thres.head(1)\n",
    "    prid=[0 if x<thres.values[0] else 1 for x in ypridictprob]\n",
    "    return prid"
   ]
  },
  {
   "cell_type": "code",
   "execution_count": 83,
   "id": "1bca671b",
   "metadata": {},
   "outputs": [],
   "source": [
    "ytrainthres=youndensthres(y_train,model_logistic.predict(X_train))"
   ]
  },
  {
   "cell_type": "code",
   "execution_count": 84,
   "id": "0b07e73f",
   "metadata": {},
   "outputs": [
    {
     "data": {
      "text/plain": [
       "(0.7401277205786524, 0.35175552665799736)"
      ]
     },
     "execution_count": 84,
     "metadata": {},
     "output_type": "execute_result"
    }
   ],
   "source": [
    "accuracy_score(y_train,ytrainthres),f1_score(y_train,ytrainthres)"
   ]
  },
  {
   "cell_type": "code",
   "execution_count": 85,
   "id": "6338603f",
   "metadata": {},
   "outputs": [],
   "source": [
    "# we see logistic is not performing well at any of the probability lets try some other algorithm"
   ]
  },
  {
   "cell_type": "markdown",
   "id": "8dc2e10d",
   "metadata": {},
   "source": [
    "# Decision tree"
   ]
  },
  {
   "cell_type": "code",
   "execution_count": 86,
   "id": "e5c9f46a",
   "metadata": {},
   "outputs": [],
   "source": [
    "from sklearn.tree import DecisionTreeClassifier"
   ]
  },
  {
   "cell_type": "code",
   "execution_count": 87,
   "id": "809fd2d5",
   "metadata": {},
   "outputs": [],
   "source": [
    "dct=DecisionTreeClassifier()"
   ]
  },
  {
   "cell_type": "code",
   "execution_count": 88,
   "id": "f6ce60d1",
   "metadata": {},
   "outputs": [],
   "source": [
    "X_train=X_train.drop('const',axis=1)\n",
    "X_test=X_test.drop('const',axis=1)"
   ]
  },
  {
   "cell_type": "code",
   "execution_count": 89,
   "id": "fe3512e8",
   "metadata": {},
   "outputs": [],
   "source": [
    "model=dct.fit(X_train,y_train)"
   ]
  },
  {
   "cell_type": "code",
   "execution_count": 90,
   "id": "1846a835",
   "metadata": {},
   "outputs": [
    {
     "data": {
      "text/plain": [
       "0.9998175420304966"
      ]
     },
     "execution_count": 90,
     "metadata": {},
     "output_type": "execute_result"
    }
   ],
   "source": [
    "model.score(X_train,y_train)"
   ]
  },
  {
   "cell_type": "code",
   "execution_count": 91,
   "id": "58c0f0a2",
   "metadata": {},
   "outputs": [
    {
     "data": {
      "text/plain": [
       "0.89965334792921"
      ]
     },
     "execution_count": 91,
     "metadata": {},
     "output_type": "execute_result"
    }
   ],
   "source": [
    "model.score(X_test,y_test)"
   ]
  },
  {
   "cell_type": "code",
   "execution_count": 92,
   "id": "de0b9b75",
   "metadata": {},
   "outputs": [
    {
     "data": {
      "text/plain": [
       "(0.9998175420304966, 0.9989278603155154)"
      ]
     },
     "execution_count": 92,
     "metadata": {},
     "output_type": "execute_result"
    }
   ],
   "source": [
    "accuracy_score(y_train,model.predict(X_train)),f1_score(y_train,model.predict(X_train))"
   ]
  },
  {
   "cell_type": "code",
   "execution_count": 93,
   "id": "a6a6b8dc",
   "metadata": {},
   "outputs": [
    {
     "data": {
      "text/plain": [
       "0.43839346494213755"
      ]
     },
     "execution_count": 93,
     "metadata": {},
     "output_type": "execute_result"
    }
   ],
   "source": [
    "f1_score(y_test,model.predict(X_test))"
   ]
  },
  {
   "cell_type": "code",
   "execution_count": 94,
   "id": "d70be0f2",
   "metadata": {},
   "outputs": [],
   "source": [
    "from sklearn.metrics import classification_report"
   ]
  },
  {
   "cell_type": "code",
   "execution_count": 95,
   "id": "c7a7c3b3",
   "metadata": {},
   "outputs": [
    {
     "name": "stdout",
     "output_type": "stream",
     "text": [
      "              precision    recall  f1-score   support\n",
      "\n",
      "         0.0       1.00      1.00      1.00     35097\n",
      "         1.0       1.00      1.00      1.00      3268\n",
      "\n",
      "    accuracy                           1.00     38365\n",
      "   macro avg       1.00      1.00      1.00     38365\n",
      "weighted avg       1.00      1.00      1.00     38365\n",
      "\n"
     ]
    }
   ],
   "source": [
    "print(classification_report(y_train,model.predict(X_train)))"
   ]
  },
  {
   "cell_type": "code",
   "execution_count": 96,
   "id": "f977a3e7",
   "metadata": {},
   "outputs": [
    {
     "name": "stdout",
     "output_type": "stream",
     "text": [
      "              precision    recall  f1-score   support\n",
      "\n",
      "         0.0       0.95      0.94      0.94     15043\n",
      "         1.0       0.42      0.46      0.44      1400\n",
      "\n",
      "    accuracy                           0.90     16443\n",
      "   macro avg       0.68      0.70      0.69     16443\n",
      "weighted avg       0.90      0.90      0.90     16443\n",
      "\n"
     ]
    }
   ],
   "source": [
    "print(classification_report(y_test,model.predict(X_test)))"
   ]
  },
  {
   "cell_type": "code",
   "execution_count": 97,
   "id": "78b202ec",
   "metadata": {},
   "outputs": [],
   "source": [
    "# lets check same on thres probability"
   ]
  },
  {
   "cell_type": "code",
   "execution_count": 98,
   "id": "fe909e19",
   "metadata": {},
   "outputs": [],
   "source": [
    "ytrthres=youndensthres(y_train,model.predict_proba(X_train)[:,1])\n",
    "ytethres=youndensthres(y_test,model.predict_proba(X_test)[:,1])"
   ]
  },
  {
   "cell_type": "code",
   "execution_count": 99,
   "id": "be58a88b",
   "metadata": {},
   "outputs": [
    {
     "data": {
      "text/plain": [
       "(0.9989301543634419, 0.43839346494213755)"
      ]
     },
     "execution_count": 99,
     "metadata": {},
     "output_type": "execute_result"
    }
   ],
   "source": [
    "f1_score(y_train,ytrthres),f1_score(y_test,ytethres)"
   ]
  },
  {
   "cell_type": "code",
   "execution_count": 100,
   "id": "1a5e5e6d",
   "metadata": {},
   "outputs": [],
   "source": [
    "# not effective lets try parameter tunning\n",
    "param=[{'criterion' :[\"gini\", \"entropy\", \"log_loss\"],'max_depth':[5,6,7,8,9,10,11,12,13,14,15,16,17,18,19,20],'min_samples_split':[2,3,5,7,9,11,13,15,17]}]"
   ]
  },
  {
   "cell_type": "code",
   "execution_count": 101,
   "id": "2363362d",
   "metadata": {},
   "outputs": [],
   "source": [
    "est=DecisionTreeClassifier()"
   ]
  },
  {
   "cell_type": "code",
   "execution_count": 102,
   "id": "0fbf7e06",
   "metadata": {},
   "outputs": [],
   "source": [
    "from sklearn.model_selection import GridSearchCV"
   ]
  },
  {
   "cell_type": "code",
   "execution_count": 103,
   "id": "676024cc",
   "metadata": {},
   "outputs": [],
   "source": [
    "gse=GridSearchCV(estimator=est,param_grid=param)"
   ]
  },
  {
   "cell_type": "code",
   "execution_count": 104,
   "id": "9b44450a",
   "metadata": {},
   "outputs": [
    {
     "data": {
      "text/html": [
       "<style>#sk-container-id-2 {color: black;background-color: white;}#sk-container-id-2 pre{padding: 0;}#sk-container-id-2 div.sk-toggleable {background-color: white;}#sk-container-id-2 label.sk-toggleable__label {cursor: pointer;display: block;width: 100%;margin-bottom: 0;padding: 0.3em;box-sizing: border-box;text-align: center;}#sk-container-id-2 label.sk-toggleable__label-arrow:before {content: \"▸\";float: left;margin-right: 0.25em;color: #696969;}#sk-container-id-2 label.sk-toggleable__label-arrow:hover:before {color: black;}#sk-container-id-2 div.sk-estimator:hover label.sk-toggleable__label-arrow:before {color: black;}#sk-container-id-2 div.sk-toggleable__content {max-height: 0;max-width: 0;overflow: hidden;text-align: left;background-color: #f0f8ff;}#sk-container-id-2 div.sk-toggleable__content pre {margin: 0.2em;color: black;border-radius: 0.25em;background-color: #f0f8ff;}#sk-container-id-2 input.sk-toggleable__control:checked~div.sk-toggleable__content {max-height: 200px;max-width: 100%;overflow: auto;}#sk-container-id-2 input.sk-toggleable__control:checked~label.sk-toggleable__label-arrow:before {content: \"▾\";}#sk-container-id-2 div.sk-estimator input.sk-toggleable__control:checked~label.sk-toggleable__label {background-color: #d4ebff;}#sk-container-id-2 div.sk-label input.sk-toggleable__control:checked~label.sk-toggleable__label {background-color: #d4ebff;}#sk-container-id-2 input.sk-hidden--visually {border: 0;clip: rect(1px 1px 1px 1px);clip: rect(1px, 1px, 1px, 1px);height: 1px;margin: -1px;overflow: hidden;padding: 0;position: absolute;width: 1px;}#sk-container-id-2 div.sk-estimator {font-family: monospace;background-color: #f0f8ff;border: 1px dotted black;border-radius: 0.25em;box-sizing: border-box;margin-bottom: 0.5em;}#sk-container-id-2 div.sk-estimator:hover {background-color: #d4ebff;}#sk-container-id-2 div.sk-parallel-item::after {content: \"\";width: 100%;border-bottom: 1px solid gray;flex-grow: 1;}#sk-container-id-2 div.sk-label:hover label.sk-toggleable__label {background-color: #d4ebff;}#sk-container-id-2 div.sk-serial::before {content: \"\";position: absolute;border-left: 1px solid gray;box-sizing: border-box;top: 0;bottom: 0;left: 50%;z-index: 0;}#sk-container-id-2 div.sk-serial {display: flex;flex-direction: column;align-items: center;background-color: white;padding-right: 0.2em;padding-left: 0.2em;position: relative;}#sk-container-id-2 div.sk-item {position: relative;z-index: 1;}#sk-container-id-2 div.sk-parallel {display: flex;align-items: stretch;justify-content: center;background-color: white;position: relative;}#sk-container-id-2 div.sk-item::before, #sk-container-id-2 div.sk-parallel-item::before {content: \"\";position: absolute;border-left: 1px solid gray;box-sizing: border-box;top: 0;bottom: 0;left: 50%;z-index: -1;}#sk-container-id-2 div.sk-parallel-item {display: flex;flex-direction: column;z-index: 1;position: relative;background-color: white;}#sk-container-id-2 div.sk-parallel-item:first-child::after {align-self: flex-end;width: 50%;}#sk-container-id-2 div.sk-parallel-item:last-child::after {align-self: flex-start;width: 50%;}#sk-container-id-2 div.sk-parallel-item:only-child::after {width: 0;}#sk-container-id-2 div.sk-dashed-wrapped {border: 1px dashed gray;margin: 0 0.4em 0.5em 0.4em;box-sizing: border-box;padding-bottom: 0.4em;background-color: white;}#sk-container-id-2 div.sk-label label {font-family: monospace;font-weight: bold;display: inline-block;line-height: 1.2em;}#sk-container-id-2 div.sk-label-container {text-align: center;}#sk-container-id-2 div.sk-container {/* jupyter's `normalize.less` sets `[hidden] { display: none; }` but bootstrap.min.css set `[hidden] { display: none !important; }` so we also need the `!important` here to be able to override the default hidden behavior on the sphinx rendered scikit-learn.org. See: https://github.com/scikit-learn/scikit-learn/issues/21755 */display: inline-block !important;position: relative;}#sk-container-id-2 div.sk-text-repr-fallback {display: none;}</style><div id=\"sk-container-id-2\" class=\"sk-top-container\"><div class=\"sk-text-repr-fallback\"><pre>GridSearchCV(estimator=DecisionTreeClassifier(),\n",
       "             param_grid=[{&#x27;criterion&#x27;: [&#x27;gini&#x27;, &#x27;entropy&#x27;, &#x27;log_loss&#x27;],\n",
       "                          &#x27;max_depth&#x27;: [5, 6, 7, 8, 9, 10, 11, 12, 13, 14, 15,\n",
       "                                        16, 17, 18, 19, 20],\n",
       "                          &#x27;min_samples_split&#x27;: [2, 3, 5, 7, 9, 11, 13, 15,\n",
       "                                                17]}])</pre><b>In a Jupyter environment, please rerun this cell to show the HTML representation or trust the notebook. <br />On GitHub, the HTML representation is unable to render, please try loading this page with nbviewer.org.</b></div><div class=\"sk-container\" hidden><div class=\"sk-item sk-dashed-wrapped\"><div class=\"sk-label-container\"><div class=\"sk-label sk-toggleable\"><input class=\"sk-toggleable__control sk-hidden--visually\" id=\"sk-estimator-id-2\" type=\"checkbox\" ><label for=\"sk-estimator-id-2\" class=\"sk-toggleable__label sk-toggleable__label-arrow\">GridSearchCV</label><div class=\"sk-toggleable__content\"><pre>GridSearchCV(estimator=DecisionTreeClassifier(),\n",
       "             param_grid=[{&#x27;criterion&#x27;: [&#x27;gini&#x27;, &#x27;entropy&#x27;, &#x27;log_loss&#x27;],\n",
       "                          &#x27;max_depth&#x27;: [5, 6, 7, 8, 9, 10, 11, 12, 13, 14, 15,\n",
       "                                        16, 17, 18, 19, 20],\n",
       "                          &#x27;min_samples_split&#x27;: [2, 3, 5, 7, 9, 11, 13, 15,\n",
       "                                                17]}])</pre></div></div></div><div class=\"sk-parallel\"><div class=\"sk-parallel-item\"><div class=\"sk-item\"><div class=\"sk-label-container\"><div class=\"sk-label sk-toggleable\"><input class=\"sk-toggleable__control sk-hidden--visually\" id=\"sk-estimator-id-3\" type=\"checkbox\" ><label for=\"sk-estimator-id-3\" class=\"sk-toggleable__label sk-toggleable__label-arrow\">estimator: DecisionTreeClassifier</label><div class=\"sk-toggleable__content\"><pre>DecisionTreeClassifier()</pre></div></div></div><div class=\"sk-serial\"><div class=\"sk-item\"><div class=\"sk-estimator sk-toggleable\"><input class=\"sk-toggleable__control sk-hidden--visually\" id=\"sk-estimator-id-4\" type=\"checkbox\" ><label for=\"sk-estimator-id-4\" class=\"sk-toggleable__label sk-toggleable__label-arrow\">DecisionTreeClassifier</label><div class=\"sk-toggleable__content\"><pre>DecisionTreeClassifier()</pre></div></div></div></div></div></div></div></div></div></div>"
      ],
      "text/plain": [
       "GridSearchCV(estimator=DecisionTreeClassifier(),\n",
       "             param_grid=[{'criterion': ['gini', 'entropy', 'log_loss'],\n",
       "                          'max_depth': [5, 6, 7, 8, 9, 10, 11, 12, 13, 14, 15,\n",
       "                                        16, 17, 18, 19, 20],\n",
       "                          'min_samples_split': [2, 3, 5, 7, 9, 11, 13, 15,\n",
       "                                                17]}])"
      ]
     },
     "execution_count": 104,
     "metadata": {},
     "output_type": "execute_result"
    }
   ],
   "source": [
    "gse.fit(X_train,y_train)"
   ]
  },
  {
   "cell_type": "code",
   "execution_count": 105,
   "id": "78d92ff2",
   "metadata": {},
   "outputs": [
    {
     "data": {
      "text/plain": [
       "{'criterion': 'entropy', 'max_depth': 11, 'min_samples_split': 17}"
      ]
     },
     "execution_count": 105,
     "metadata": {},
     "output_type": "execute_result"
    }
   ],
   "source": [
    "gse.best_params_"
   ]
  },
  {
   "cell_type": "code",
   "execution_count": 106,
   "id": "b5dd3b49",
   "metadata": {},
   "outputs": [],
   "source": [
    "dct=DecisionTreeClassifier(max_depth=16,min_samples_split=77)"
   ]
  },
  {
   "cell_type": "code",
   "execution_count": 107,
   "id": "baa225b5",
   "metadata": {},
   "outputs": [
    {
     "data": {
      "text/html": [
       "<style>#sk-container-id-3 {color: black;background-color: white;}#sk-container-id-3 pre{padding: 0;}#sk-container-id-3 div.sk-toggleable {background-color: white;}#sk-container-id-3 label.sk-toggleable__label {cursor: pointer;display: block;width: 100%;margin-bottom: 0;padding: 0.3em;box-sizing: border-box;text-align: center;}#sk-container-id-3 label.sk-toggleable__label-arrow:before {content: \"▸\";float: left;margin-right: 0.25em;color: #696969;}#sk-container-id-3 label.sk-toggleable__label-arrow:hover:before {color: black;}#sk-container-id-3 div.sk-estimator:hover label.sk-toggleable__label-arrow:before {color: black;}#sk-container-id-3 div.sk-toggleable__content {max-height: 0;max-width: 0;overflow: hidden;text-align: left;background-color: #f0f8ff;}#sk-container-id-3 div.sk-toggleable__content pre {margin: 0.2em;color: black;border-radius: 0.25em;background-color: #f0f8ff;}#sk-container-id-3 input.sk-toggleable__control:checked~div.sk-toggleable__content {max-height: 200px;max-width: 100%;overflow: auto;}#sk-container-id-3 input.sk-toggleable__control:checked~label.sk-toggleable__label-arrow:before {content: \"▾\";}#sk-container-id-3 div.sk-estimator input.sk-toggleable__control:checked~label.sk-toggleable__label {background-color: #d4ebff;}#sk-container-id-3 div.sk-label input.sk-toggleable__control:checked~label.sk-toggleable__label {background-color: #d4ebff;}#sk-container-id-3 input.sk-hidden--visually {border: 0;clip: rect(1px 1px 1px 1px);clip: rect(1px, 1px, 1px, 1px);height: 1px;margin: -1px;overflow: hidden;padding: 0;position: absolute;width: 1px;}#sk-container-id-3 div.sk-estimator {font-family: monospace;background-color: #f0f8ff;border: 1px dotted black;border-radius: 0.25em;box-sizing: border-box;margin-bottom: 0.5em;}#sk-container-id-3 div.sk-estimator:hover {background-color: #d4ebff;}#sk-container-id-3 div.sk-parallel-item::after {content: \"\";width: 100%;border-bottom: 1px solid gray;flex-grow: 1;}#sk-container-id-3 div.sk-label:hover label.sk-toggleable__label {background-color: #d4ebff;}#sk-container-id-3 div.sk-serial::before {content: \"\";position: absolute;border-left: 1px solid gray;box-sizing: border-box;top: 0;bottom: 0;left: 50%;z-index: 0;}#sk-container-id-3 div.sk-serial {display: flex;flex-direction: column;align-items: center;background-color: white;padding-right: 0.2em;padding-left: 0.2em;position: relative;}#sk-container-id-3 div.sk-item {position: relative;z-index: 1;}#sk-container-id-3 div.sk-parallel {display: flex;align-items: stretch;justify-content: center;background-color: white;position: relative;}#sk-container-id-3 div.sk-item::before, #sk-container-id-3 div.sk-parallel-item::before {content: \"\";position: absolute;border-left: 1px solid gray;box-sizing: border-box;top: 0;bottom: 0;left: 50%;z-index: -1;}#sk-container-id-3 div.sk-parallel-item {display: flex;flex-direction: column;z-index: 1;position: relative;background-color: white;}#sk-container-id-3 div.sk-parallel-item:first-child::after {align-self: flex-end;width: 50%;}#sk-container-id-3 div.sk-parallel-item:last-child::after {align-self: flex-start;width: 50%;}#sk-container-id-3 div.sk-parallel-item:only-child::after {width: 0;}#sk-container-id-3 div.sk-dashed-wrapped {border: 1px dashed gray;margin: 0 0.4em 0.5em 0.4em;box-sizing: border-box;padding-bottom: 0.4em;background-color: white;}#sk-container-id-3 div.sk-label label {font-family: monospace;font-weight: bold;display: inline-block;line-height: 1.2em;}#sk-container-id-3 div.sk-label-container {text-align: center;}#sk-container-id-3 div.sk-container {/* jupyter's `normalize.less` sets `[hidden] { display: none; }` but bootstrap.min.css set `[hidden] { display: none !important; }` so we also need the `!important` here to be able to override the default hidden behavior on the sphinx rendered scikit-learn.org. See: https://github.com/scikit-learn/scikit-learn/issues/21755 */display: inline-block !important;position: relative;}#sk-container-id-3 div.sk-text-repr-fallback {display: none;}</style><div id=\"sk-container-id-3\" class=\"sk-top-container\"><div class=\"sk-text-repr-fallback\"><pre>DecisionTreeClassifier(max_depth=16, min_samples_split=77)</pre><b>In a Jupyter environment, please rerun this cell to show the HTML representation or trust the notebook. <br />On GitHub, the HTML representation is unable to render, please try loading this page with nbviewer.org.</b></div><div class=\"sk-container\" hidden><div class=\"sk-item\"><div class=\"sk-estimator sk-toggleable\"><input class=\"sk-toggleable__control sk-hidden--visually\" id=\"sk-estimator-id-5\" type=\"checkbox\" checked><label for=\"sk-estimator-id-5\" class=\"sk-toggleable__label sk-toggleable__label-arrow\">DecisionTreeClassifier</label><div class=\"sk-toggleable__content\"><pre>DecisionTreeClassifier(max_depth=16, min_samples_split=77)</pre></div></div></div></div></div>"
      ],
      "text/plain": [
       "DecisionTreeClassifier(max_depth=16, min_samples_split=77)"
      ]
     },
     "execution_count": 107,
     "metadata": {},
     "output_type": "execute_result"
    }
   ],
   "source": [
    "dct.fit(X_train,y_train)"
   ]
  },
  {
   "cell_type": "code",
   "execution_count": 108,
   "id": "ec592300",
   "metadata": {},
   "outputs": [
    {
     "data": {
      "text/plain": [
       "(0.5153977758768178, 0.5091088133924175)"
      ]
     },
     "execution_count": 108,
     "metadata": {},
     "output_type": "execute_result"
    }
   ],
   "source": [
    "ytrpredicted=dct.predict(X_train)\n",
    "ytepredicted=dct.predict(X_test)\n",
    "f1_score(y_train,ytrpredicted),f1_score(y_test,ytepredicted)"
   ]
  },
  {
   "cell_type": "code",
   "execution_count": 109,
   "id": "068c81a5",
   "metadata": {},
   "outputs": [],
   "source": [
    "# lets check youndens index thres"
   ]
  },
  {
   "cell_type": "code",
   "execution_count": 110,
   "id": "6417c7a8",
   "metadata": {},
   "outputs": [
    {
     "data": {
      "text/plain": [
       "(0.42958401947447555, 0.36555460507556314)"
      ]
     },
     "execution_count": 110,
     "metadata": {},
     "output_type": "execute_result"
    }
   ],
   "source": [
    "ythrestr=youndensthres(y_train,dct.predict_proba(X_train)[:,1])\n",
    "ythreste=youndensthres(y_test,dct.predict_proba(X_test)[:,1])\n",
    "f1_score(y_train,ythrestr),f1_score(y_test,ythreste)# not usefull"
   ]
  },
  {
   "cell_type": "code",
   "execution_count": 111,
   "id": "d68f4751",
   "metadata": {},
   "outputs": [],
   "source": [
    "# lets try smoting"
   ]
  },
  {
   "cell_type": "code",
   "execution_count": 112,
   "id": "1640545e",
   "metadata": {},
   "outputs": [],
   "source": [
    "from imblearn.over_sampling import SMOTE\n",
    "sm=SMOTE()"
   ]
  },
  {
   "cell_type": "code",
   "execution_count": 113,
   "id": "64ce48bc",
   "metadata": {},
   "outputs": [],
   "source": [
    "dct=DecisionTreeClassifier()"
   ]
  },
  {
   "cell_type": "code",
   "execution_count": 114,
   "id": "81a56090",
   "metadata": {},
   "outputs": [],
   "source": [
    "xsm,ysm=sm.fit_resample(X_train,y_train)"
   ]
  },
  {
   "cell_type": "code",
   "execution_count": 115,
   "id": "b4863329",
   "metadata": {},
   "outputs": [
    {
     "data": {
      "text/html": [
       "<style>#sk-container-id-4 {color: black;background-color: white;}#sk-container-id-4 pre{padding: 0;}#sk-container-id-4 div.sk-toggleable {background-color: white;}#sk-container-id-4 label.sk-toggleable__label {cursor: pointer;display: block;width: 100%;margin-bottom: 0;padding: 0.3em;box-sizing: border-box;text-align: center;}#sk-container-id-4 label.sk-toggleable__label-arrow:before {content: \"▸\";float: left;margin-right: 0.25em;color: #696969;}#sk-container-id-4 label.sk-toggleable__label-arrow:hover:before {color: black;}#sk-container-id-4 div.sk-estimator:hover label.sk-toggleable__label-arrow:before {color: black;}#sk-container-id-4 div.sk-toggleable__content {max-height: 0;max-width: 0;overflow: hidden;text-align: left;background-color: #f0f8ff;}#sk-container-id-4 div.sk-toggleable__content pre {margin: 0.2em;color: black;border-radius: 0.25em;background-color: #f0f8ff;}#sk-container-id-4 input.sk-toggleable__control:checked~div.sk-toggleable__content {max-height: 200px;max-width: 100%;overflow: auto;}#sk-container-id-4 input.sk-toggleable__control:checked~label.sk-toggleable__label-arrow:before {content: \"▾\";}#sk-container-id-4 div.sk-estimator input.sk-toggleable__control:checked~label.sk-toggleable__label {background-color: #d4ebff;}#sk-container-id-4 div.sk-label input.sk-toggleable__control:checked~label.sk-toggleable__label {background-color: #d4ebff;}#sk-container-id-4 input.sk-hidden--visually {border: 0;clip: rect(1px 1px 1px 1px);clip: rect(1px, 1px, 1px, 1px);height: 1px;margin: -1px;overflow: hidden;padding: 0;position: absolute;width: 1px;}#sk-container-id-4 div.sk-estimator {font-family: monospace;background-color: #f0f8ff;border: 1px dotted black;border-radius: 0.25em;box-sizing: border-box;margin-bottom: 0.5em;}#sk-container-id-4 div.sk-estimator:hover {background-color: #d4ebff;}#sk-container-id-4 div.sk-parallel-item::after {content: \"\";width: 100%;border-bottom: 1px solid gray;flex-grow: 1;}#sk-container-id-4 div.sk-label:hover label.sk-toggleable__label {background-color: #d4ebff;}#sk-container-id-4 div.sk-serial::before {content: \"\";position: absolute;border-left: 1px solid gray;box-sizing: border-box;top: 0;bottom: 0;left: 50%;z-index: 0;}#sk-container-id-4 div.sk-serial {display: flex;flex-direction: column;align-items: center;background-color: white;padding-right: 0.2em;padding-left: 0.2em;position: relative;}#sk-container-id-4 div.sk-item {position: relative;z-index: 1;}#sk-container-id-4 div.sk-parallel {display: flex;align-items: stretch;justify-content: center;background-color: white;position: relative;}#sk-container-id-4 div.sk-item::before, #sk-container-id-4 div.sk-parallel-item::before {content: \"\";position: absolute;border-left: 1px solid gray;box-sizing: border-box;top: 0;bottom: 0;left: 50%;z-index: -1;}#sk-container-id-4 div.sk-parallel-item {display: flex;flex-direction: column;z-index: 1;position: relative;background-color: white;}#sk-container-id-4 div.sk-parallel-item:first-child::after {align-self: flex-end;width: 50%;}#sk-container-id-4 div.sk-parallel-item:last-child::after {align-self: flex-start;width: 50%;}#sk-container-id-4 div.sk-parallel-item:only-child::after {width: 0;}#sk-container-id-4 div.sk-dashed-wrapped {border: 1px dashed gray;margin: 0 0.4em 0.5em 0.4em;box-sizing: border-box;padding-bottom: 0.4em;background-color: white;}#sk-container-id-4 div.sk-label label {font-family: monospace;font-weight: bold;display: inline-block;line-height: 1.2em;}#sk-container-id-4 div.sk-label-container {text-align: center;}#sk-container-id-4 div.sk-container {/* jupyter's `normalize.less` sets `[hidden] { display: none; }` but bootstrap.min.css set `[hidden] { display: none !important; }` so we also need the `!important` here to be able to override the default hidden behavior on the sphinx rendered scikit-learn.org. See: https://github.com/scikit-learn/scikit-learn/issues/21755 */display: inline-block !important;position: relative;}#sk-container-id-4 div.sk-text-repr-fallback {display: none;}</style><div id=\"sk-container-id-4\" class=\"sk-top-container\"><div class=\"sk-text-repr-fallback\"><pre>DecisionTreeClassifier()</pre><b>In a Jupyter environment, please rerun this cell to show the HTML representation or trust the notebook. <br />On GitHub, the HTML representation is unable to render, please try loading this page with nbviewer.org.</b></div><div class=\"sk-container\" hidden><div class=\"sk-item\"><div class=\"sk-estimator sk-toggleable\"><input class=\"sk-toggleable__control sk-hidden--visually\" id=\"sk-estimator-id-6\" type=\"checkbox\" checked><label for=\"sk-estimator-id-6\" class=\"sk-toggleable__label sk-toggleable__label-arrow\">DecisionTreeClassifier</label><div class=\"sk-toggleable__content\"><pre>DecisionTreeClassifier()</pre></div></div></div></div></div>"
      ],
      "text/plain": [
       "DecisionTreeClassifier()"
      ]
     },
     "execution_count": 115,
     "metadata": {},
     "output_type": "execute_result"
    }
   ],
   "source": [
    "dct.fit(xsm,ysm)"
   ]
  },
  {
   "cell_type": "code",
   "execution_count": 116,
   "id": "9701a99f",
   "metadata": {},
   "outputs": [
    {
     "data": {
      "text/plain": [
       "(0.9999002664311055, 0.42284632376143894)"
      ]
     },
     "execution_count": 116,
     "metadata": {},
     "output_type": "execute_result"
    }
   ],
   "source": [
    "ytrpredicted=dct.predict(xsm)\n",
    "ytepredicted=dct.predict(X_test)\n",
    "f1_score(ysm,ytrpredicted),f1_score(y_test,ytepredicted)"
   ]
  },
  {
   "cell_type": "code",
   "execution_count": 117,
   "id": "67143951",
   "metadata": {},
   "outputs": [],
   "source": [
    "#Lets try Random forest"
   ]
  },
  {
   "cell_type": "code",
   "execution_count": 118,
   "id": "95a7f2f1",
   "metadata": {},
   "outputs": [],
   "source": [
    "from sklearn.ensemble import RandomForestClassifier"
   ]
  },
  {
   "cell_type": "code",
   "execution_count": 119,
   "id": "2f67f710",
   "metadata": {},
   "outputs": [
    {
     "data": {
      "text/plain": [
       "(0.9986211123027424, 0.46321243523316064)"
      ]
     },
     "execution_count": 119,
     "metadata": {},
     "output_type": "execute_result"
    }
   ],
   "source": [
    "rfe=RandomForestClassifier()\n",
    "model_rfe=rfe.fit(X_train,y_train)\n",
    "f1_score(y_train,model_rfe.predict(X_train)),f1_score(y_test,model_rfe.predict(X_test))"
   ]
  },
  {
   "cell_type": "code",
   "execution_count": null,
   "id": "52994101",
   "metadata": {},
   "outputs": [],
   "source": []
  },
  {
   "cell_type": "code",
   "execution_count": 120,
   "id": "ff50ec92",
   "metadata": {},
   "outputs": [
    {
     "data": {
      "text/plain": [
       "0.46321243523316064"
      ]
     },
     "execution_count": 120,
     "metadata": {},
     "output_type": "execute_result"
    }
   ],
   "source": [
    "f1_score(y_train,model_rfe.predict(X_train))\n",
    "f1_score(y_test,model_rfe.predict(X_test))"
   ]
  },
  {
   "cell_type": "code",
   "execution_count": 122,
   "id": "7b5b6afb",
   "metadata": {},
   "outputs": [],
   "source": [
    "from sklearn.ensemble import AdaBoostClassifier,GradientBoostingClassifier"
   ]
  },
  {
   "cell_type": "code",
   "execution_count": 123,
   "id": "5ad6e70f",
   "metadata": {},
   "outputs": [],
   "source": [
    "adb=AdaBoostClassifier()"
   ]
  },
  {
   "cell_type": "code",
   "execution_count": 124,
   "id": "b61c26fe",
   "metadata": {},
   "outputs": [],
   "source": [
    "modeladb=adb.fit(X_train,y_train)"
   ]
  },
  {
   "cell_type": "code",
   "execution_count": 125,
   "id": "13b792af",
   "metadata": {},
   "outputs": [
    {
     "name": "stdout",
     "output_type": "stream",
     "text": [
      "              precision    recall  f1-score   support\n",
      "\n",
      "         0.0       0.93      0.99      0.96     35097\n",
      "         1.0       0.71      0.16      0.27      3268\n",
      "\n",
      "    accuracy                           0.92     38365\n",
      "   macro avg       0.82      0.58      0.61     38365\n",
      "weighted avg       0.91      0.92      0.90     38365\n",
      "\n"
     ]
    }
   ],
   "source": [
    "print(classification_report(y_train,modeladb.predict(X_train)))"
   ]
  },
  {
   "cell_type": "code",
   "execution_count": 126,
   "id": "74ca0ea7",
   "metadata": {},
   "outputs": [
    {
     "name": "stdout",
     "output_type": "stream",
     "text": [
      "              precision    recall  f1-score   support\n",
      "\n",
      "         0.0       0.93      0.99      0.96     15043\n",
      "         1.0       0.76      0.18      0.29      1400\n",
      "\n",
      "    accuracy                           0.93     16443\n",
      "   macro avg       0.84      0.59      0.63     16443\n",
      "weighted avg       0.91      0.93      0.90     16443\n",
      "\n"
     ]
    }
   ],
   "source": [
    "print(classification_report(y_test,modeladb.predict(X_test)))"
   ]
  },
  {
   "cell_type": "code",
   "execution_count": 127,
   "id": "40b2d1aa",
   "metadata": {},
   "outputs": [
    {
     "data": {
      "text/plain": [
       "(0.2677595628415301, 0.2947610823258492)"
      ]
     },
     "execution_count": 127,
     "metadata": {},
     "output_type": "execute_result"
    }
   ],
   "source": [
    "f1_score(y_train,modeladb.predict(X_train)),f1_score(y_test,modeladb.predict(X_test))"
   ]
  },
  {
   "cell_type": "code",
   "execution_count": 128,
   "id": "8b80b057",
   "metadata": {},
   "outputs": [],
   "source": [
    "# parameter tunning in adaboost"
   ]
  },
  {
   "cell_type": "code",
   "execution_count": 129,
   "id": "a0f8ba28",
   "metadata": {},
   "outputs": [],
   "source": [
    "tuned_paramaters = [{'n_estimators': [100, 120, 150, 200, 250, 300, 350],\n",
    "                     'learning_rate': [0.1, 0.01, 0.001, 0.15, 0.015]}]\n",
    " "
   ]
  },
  {
   "cell_type": "code",
   "execution_count": 130,
   "id": "c69349b1",
   "metadata": {},
   "outputs": [],
   "source": [
    "ada_model = AdaBoostClassifier(random_state = 10)\n",
    "ada_grid = GridSearchCV(estimator = ada_model, \n",
    "                         param_grid = tuned_paramaters, \n",
    "                         cv = 5,\n",
    "                         n_jobs=-1)"
   ]
  },
  {
   "cell_type": "code",
   "execution_count": 131,
   "id": "57875b1d",
   "metadata": {},
   "outputs": [
    {
     "data": {
      "text/plain": [
       "{'learning_rate': 0.15, 'n_estimators': 350}"
      ]
     },
     "execution_count": 131,
     "metadata": {},
     "output_type": "execute_result"
    }
   ],
   "source": [
    "ada_grid.fit(X_train, y_train)\n",
    "ada_grid.best_params_"
   ]
  },
  {
   "cell_type": "code",
   "execution_count": 132,
   "id": "48768541",
   "metadata": {},
   "outputs": [
    {
     "data": {
      "text/plain": [
       "(0.24347376583096408, 0.27446300715990457)"
      ]
     },
     "execution_count": 132,
     "metadata": {},
     "output_type": "execute_result"
    }
   ],
   "source": [
    "ada=AdaBoostClassifier(**ada_grid.best_params_,random_state = 10)\n",
    "model_ada=ada.fit(X_train,y_train)\n",
    "f1_score(y_train,model_ada.predict(X_train)),f1_score(y_test,model_ada.predict(X_test))"
   ]
  },
  {
   "cell_type": "code",
   "execution_count": 133,
   "id": "8a6ba7b8",
   "metadata": {},
   "outputs": [],
   "source": [
    "# GB Boost"
   ]
  },
  {
   "cell_type": "code",
   "execution_count": null,
   "id": "bd4a4511",
   "metadata": {},
   "outputs": [],
   "source": []
  },
  {
   "cell_type": "code",
   "execution_count": 134,
   "id": "337031a4",
   "metadata": {},
   "outputs": [],
   "source": [
    "finaltestpridicted=dct.predict(test_processed_data)"
   ]
  },
  {
   "cell_type": "code",
   "execution_count": 135,
   "id": "62f384c7",
   "metadata": {},
   "outputs": [],
   "source": [
    "submision=pd.DataFrame(test_data['employee_id'])"
   ]
  },
  {
   "cell_type": "code",
   "execution_count": 136,
   "id": "7ca8e8fb",
   "metadata": {},
   "outputs": [],
   "source": [
    "submision['is_promoted']=finaltestpridicted"
   ]
  },
  {
   "cell_type": "code",
   "execution_count": 137,
   "id": "2fb64c2d",
   "metadata": {},
   "outputs": [],
   "source": [
    "submision.is_promoted=submision.is_promoted.astype('int')"
   ]
  },
  {
   "cell_type": "code",
   "execution_count": 138,
   "id": "01afca6a",
   "metadata": {},
   "outputs": [],
   "source": [
    "submision.to_csv(r\"C:\\Users\\jakha\\Downloads\\hr analytic full\\submision.csv\", index = False)\n"
   ]
  },
  {
   "cell_type": "code",
   "execution_count": 139,
   "id": "03971699",
   "metadata": {},
   "outputs": [],
   "source": [
    "# lets try stacking and voting"
   ]
  },
  {
   "cell_type": "code",
   "execution_count": 141,
   "id": "8d48654b",
   "metadata": {},
   "outputs": [],
   "source": [
    "from xgboost import XGBClassifier"
   ]
  },
  {
   "cell_type": "code",
   "execution_count": 143,
   "id": "7b89a303",
   "metadata": {},
   "outputs": [
    {
     "name": "stdout",
     "output_type": "stream",
     "text": [
      "Collecting catboost\n",
      "  Downloading catboost-1.0.6-cp39-none-win_amd64.whl (73.9 MB)\n",
      "Requirement already satisfied: numpy>=1.16.0 in c:\\users\\jakha\\anaconda3\\lib\\site-packages (from catboost) (1.20.3)\n",
      "Collecting plotly\n",
      "  Downloading plotly-5.10.0-py2.py3-none-any.whl (15.2 MB)\n",
      "Requirement already satisfied: scipy in c:\\users\\jakha\\anaconda3\\lib\\site-packages (from catboost) (1.7.1)\n",
      "Requirement already satisfied: matplotlib in c:\\users\\jakha\\anaconda3\\lib\\site-packages (from catboost) (3.4.3)\n",
      "Requirement already satisfied: six in c:\\users\\jakha\\anaconda3\\lib\\site-packages (from catboost) (1.16.0)\n",
      "Collecting graphviz\n",
      "  Downloading graphviz-0.20.1-py3-none-any.whl (47 kB)\n",
      "Requirement already satisfied: pandas>=0.24.0 in c:\\users\\jakha\\anaconda3\\lib\\site-packages (from catboost) (1.3.4)\n",
      "Requirement already satisfied: python-dateutil>=2.7.3 in c:\\users\\jakha\\anaconda3\\lib\\site-packages (from pandas>=0.24.0->catboost) (2.8.2)\n",
      "Requirement already satisfied: pytz>=2017.3 in c:\\users\\jakha\\anaconda3\\lib\\site-packages (from pandas>=0.24.0->catboost) (2021.3)\n",
      "Requirement already satisfied: pyparsing>=2.2.1 in c:\\users\\jakha\\anaconda3\\lib\\site-packages (from matplotlib->catboost) (3.0.4)\n",
      "Requirement already satisfied: pillow>=6.2.0 in c:\\users\\jakha\\anaconda3\\lib\\site-packages (from matplotlib->catboost) (8.4.0)\n",
      "Requirement already satisfied: cycler>=0.10 in c:\\users\\jakha\\anaconda3\\lib\\site-packages (from matplotlib->catboost) (0.10.0)\n",
      "Requirement already satisfied: kiwisolver>=1.0.1 in c:\\users\\jakha\\anaconda3\\lib\\site-packages (from matplotlib->catboost) (1.3.1)\n",
      "Collecting tenacity>=6.2.0\n",
      "  Downloading tenacity-8.0.1-py3-none-any.whl (24 kB)\n",
      "Installing collected packages: tenacity, plotly, graphviz, catboost\n",
      "Successfully installed catboost-1.0.6 graphviz-0.20.1 plotly-5.10.0 tenacity-8.0.1\n",
      "Note: you may need to restart the kernel to use updated packages.\n"
     ]
    }
   ],
   "source": [
    "pip install catboost"
   ]
  },
  {
   "cell_type": "code",
   "execution_count": 144,
   "id": "1ac83420",
   "metadata": {},
   "outputs": [],
   "source": [
    "from catboost import CatBoostClassifier"
   ]
  },
  {
   "cell_type": "code",
   "execution_count": 145,
   "id": "a756743a",
   "metadata": {},
   "outputs": [],
   "source": [
    "from lightgbm import LGBMClassifier"
   ]
  },
  {
   "cell_type": "code",
   "execution_count": 148,
   "id": "3eb95e73",
   "metadata": {},
   "outputs": [],
   "source": [
    "from sklearn.ensemble import StackingClassifier,VotingClassifier"
   ]
  },
  {
   "cell_type": "code",
   "execution_count": 169,
   "id": "0c33e9a2",
   "metadata": {},
   "outputs": [],
   "source": [
    "Classifiers = {'0.XGBoost' : XGBClassifier(),\n",
    "               '1.CatBoost' : CatBoostClassifier(),\n",
    "               '2.LightGBM' : LGBMClassifier()\n",
    " }"
   ]
  },
  {
   "cell_type": "code",
   "execution_count": null,
   "id": "841617d6",
   "metadata": {},
   "outputs": [],
   "source": [
    "Classifiers = {'0.XGBoost' : XGBClassifier(learning_rate =0.1,\n",
    "                                           n_estimators=494,\n",
    "                                           max_depth=5,\n",
    "                                           subsample = 0.70,\n",
    "                                           verbosity = 0,\n",
    "                                           scale_pos_weight = 2.5,\n",
    "                                           updater =\"grow_histmaker\",\n",
    "                                           base_score  = 0.2),\n",
    "               '1.CatBoost' : CatBoostClassifier(learning_rate=0.15,\n",
    "                                                 n_estimators=494,\n",
    "                                                 subsample=0.085,\n",
    "                                                 max_depth=5,\n",
    "                                                 scale_pos_weight=2.5),\n",
    "               '2.LightGBM' : LGBMClassifier(subsample_freq = 2,\n",
    "                                             objective =\"binary\",\n",
    "                                             importance_type = \"gain\",\n",
    "                                             verbosity = -1,\n",
    "                                             max_bin = 60,\n",
    "                                             num_leaves = 300,\n",
    "                                             boosting_type = 'dart',\n",
    "                                             learning_rate=0.15,\n",
    "                                             n_estimators=494,\n",
    "                                             max_depth=5,\n",
    "                                             scale_pos_weight=2.5)\n",
    " }"
   ]
  },
  {
   "cell_type": "code",
   "execution_count": 166,
   "id": "b263ac85",
   "metadata": {},
   "outputs": [],
   "source": [
    "vm=VotingClassifier(estimators=Classifiers)"
   ]
  },
  {
   "cell_type": "code",
   "execution_count": 168,
   "id": "4ab6c46a",
   "metadata": {},
   "outputs": [
    {
     "ename": "ValueError",
     "evalue": "too many values to unpack (expected 2)",
     "output_type": "error",
     "traceback": [
      "\u001b[1;31m---------------------------------------------------------------------------\u001b[0m",
      "\u001b[1;31mValueError\u001b[0m                                Traceback (most recent call last)",
      "\u001b[1;32m~\\AppData\\Local\\Temp/ipykernel_1844/2357071338.py\u001b[0m in \u001b[0;36m<module>\u001b[1;34m\u001b[0m\n\u001b[1;32m----> 1\u001b[1;33m \u001b[0mvm\u001b[0m\u001b[1;33m.\u001b[0m\u001b[0mfit\u001b[0m\u001b[1;33m(\u001b[0m\u001b[0mX_train\u001b[0m\u001b[1;33m,\u001b[0m\u001b[0my_train\u001b[0m\u001b[1;33m)\u001b[0m\u001b[1;33m\u001b[0m\u001b[1;33m\u001b[0m\u001b[0m\n\u001b[0m",
      "\u001b[1;32m~\\Anaconda3\\lib\\site-packages\\sklearn\\ensemble\\_voting.py\u001b[0m in \u001b[0;36mfit\u001b[1;34m(self, X, y, sample_weight)\u001b[0m\n\u001b[0;32m    349\u001b[0m         \u001b[0mtransformed_y\u001b[0m \u001b[1;33m=\u001b[0m \u001b[0mself\u001b[0m\u001b[1;33m.\u001b[0m\u001b[0mle_\u001b[0m\u001b[1;33m.\u001b[0m\u001b[0mtransform\u001b[0m\u001b[1;33m(\u001b[0m\u001b[0my\u001b[0m\u001b[1;33m)\u001b[0m\u001b[1;33m\u001b[0m\u001b[1;33m\u001b[0m\u001b[0m\n\u001b[0;32m    350\u001b[0m \u001b[1;33m\u001b[0m\u001b[0m\n\u001b[1;32m--> 351\u001b[1;33m         \u001b[1;32mreturn\u001b[0m \u001b[0msuper\u001b[0m\u001b[1;33m(\u001b[0m\u001b[1;33m)\u001b[0m\u001b[1;33m.\u001b[0m\u001b[0mfit\u001b[0m\u001b[1;33m(\u001b[0m\u001b[0mX\u001b[0m\u001b[1;33m,\u001b[0m \u001b[0mtransformed_y\u001b[0m\u001b[1;33m,\u001b[0m \u001b[0msample_weight\u001b[0m\u001b[1;33m)\u001b[0m\u001b[1;33m\u001b[0m\u001b[1;33m\u001b[0m\u001b[0m\n\u001b[0m\u001b[0;32m    352\u001b[0m \u001b[1;33m\u001b[0m\u001b[0m\n\u001b[0;32m    353\u001b[0m     \u001b[1;32mdef\u001b[0m \u001b[0mpredict\u001b[0m\u001b[1;33m(\u001b[0m\u001b[0mself\u001b[0m\u001b[1;33m,\u001b[0m \u001b[0mX\u001b[0m\u001b[1;33m)\u001b[0m\u001b[1;33m:\u001b[0m\u001b[1;33m\u001b[0m\u001b[1;33m\u001b[0m\u001b[0m\n",
      "\u001b[1;32m~\\Anaconda3\\lib\\site-packages\\sklearn\\ensemble\\_voting.py\u001b[0m in \u001b[0;36mfit\u001b[1;34m(self, X, y, sample_weight)\u001b[0m\n\u001b[0;32m     66\u001b[0m     \u001b[1;32mdef\u001b[0m \u001b[0mfit\u001b[0m\u001b[1;33m(\u001b[0m\u001b[0mself\u001b[0m\u001b[1;33m,\u001b[0m \u001b[0mX\u001b[0m\u001b[1;33m,\u001b[0m \u001b[0my\u001b[0m\u001b[1;33m,\u001b[0m \u001b[0msample_weight\u001b[0m\u001b[1;33m=\u001b[0m\u001b[1;32mNone\u001b[0m\u001b[1;33m)\u001b[0m\u001b[1;33m:\u001b[0m\u001b[1;33m\u001b[0m\u001b[1;33m\u001b[0m\u001b[0m\n\u001b[0;32m     67\u001b[0m         \u001b[1;34m\"\"\"Get common fit operations.\"\"\"\u001b[0m\u001b[1;33m\u001b[0m\u001b[1;33m\u001b[0m\u001b[0m\n\u001b[1;32m---> 68\u001b[1;33m         \u001b[0mnames\u001b[0m\u001b[1;33m,\u001b[0m \u001b[0mclfs\u001b[0m \u001b[1;33m=\u001b[0m \u001b[0mself\u001b[0m\u001b[1;33m.\u001b[0m\u001b[0m_validate_estimators\u001b[0m\u001b[1;33m(\u001b[0m\u001b[1;33m)\u001b[0m\u001b[1;33m\u001b[0m\u001b[1;33m\u001b[0m\u001b[0m\n\u001b[0m\u001b[0;32m     69\u001b[0m \u001b[1;33m\u001b[0m\u001b[0m\n\u001b[0;32m     70\u001b[0m         check_scalar(\n",
      "\u001b[1;32m~\\Anaconda3\\lib\\site-packages\\sklearn\\ensemble\\_base.py\u001b[0m in \u001b[0;36m_validate_estimators\u001b[1;34m(self)\u001b[0m\n\u001b[0;32m    260\u001b[0m                 \u001b[1;34m\" of (string, estimator) tuples.\"\u001b[0m\u001b[1;33m\u001b[0m\u001b[1;33m\u001b[0m\u001b[0m\n\u001b[0;32m    261\u001b[0m             )\n\u001b[1;32m--> 262\u001b[1;33m         \u001b[0mnames\u001b[0m\u001b[1;33m,\u001b[0m \u001b[0mestimators\u001b[0m \u001b[1;33m=\u001b[0m \u001b[0mzip\u001b[0m\u001b[1;33m(\u001b[0m\u001b[1;33m*\u001b[0m\u001b[0mself\u001b[0m\u001b[1;33m.\u001b[0m\u001b[0mestimators\u001b[0m\u001b[1;33m)\u001b[0m\u001b[1;33m\u001b[0m\u001b[1;33m\u001b[0m\u001b[0m\n\u001b[0m\u001b[0;32m    263\u001b[0m         \u001b[1;31m# defined by MetaEstimatorMixin\u001b[0m\u001b[1;33m\u001b[0m\u001b[1;33m\u001b[0m\u001b[0m\n\u001b[0;32m    264\u001b[0m         \u001b[0mself\u001b[0m\u001b[1;33m.\u001b[0m\u001b[0m_validate_names\u001b[0m\u001b[1;33m(\u001b[0m\u001b[0mnames\u001b[0m\u001b[1;33m)\u001b[0m\u001b[1;33m\u001b[0m\u001b[1;33m\u001b[0m\u001b[0m\n",
      "\u001b[1;31mValueError\u001b[0m: too many values to unpack (expected 2)"
     ]
    }
   ],
   "source": [
    "vm.fit(X_train,y_train)"
   ]
  }
 ],
 "metadata": {
  "kernelspec": {
   "display_name": "Python 3 (ipykernel)",
   "language": "python",
   "name": "python3"
  },
  "language_info": {
   "codemirror_mode": {
    "name": "ipython",
    "version": 3
   },
   "file_extension": ".py",
   "mimetype": "text/x-python",
   "name": "python",
   "nbconvert_exporter": "python",
   "pygments_lexer": "ipython3",
   "version": "3.9.7"
  }
 },
 "nbformat": 4,
 "nbformat_minor": 5
}
